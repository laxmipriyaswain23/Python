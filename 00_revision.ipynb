{
 "cells": [
  {
   "cell_type": "markdown",
   "id": "47ae5ae2",
   "metadata": {},
   "source": [
    "# variables"
   ]
  },
  {
   "cell_type": "markdown",
   "id": "8e13c550",
   "metadata": {},
   "source": [
    "-memory location inside RAM which stores values/data\n",
    "-changeable"
   ]
  },
  {
   "cell_type": "code",
   "execution_count": 2,
   "id": "c9fd880f",
   "metadata": {},
   "outputs": [
    {
     "name": "stdout",
     "output_type": "stream",
     "text": [
      "78\n"
     ]
    }
   ],
   "source": [
    "a=78\n",
    "print(a)"
   ]
  },
  {
   "cell_type": "code",
   "execution_count": 3,
   "id": "193e10c5",
   "metadata": {},
   "outputs": [
    {
     "name": "stdout",
     "output_type": "stream",
     "text": [
      "90\n"
     ]
    }
   ],
   "source": [
    "a_bc=90\n",
    "print(a_bc)"
   ]
  },
  {
   "cell_type": "code",
   "execution_count": 7,
   "id": "1f5b58f0",
   "metadata": {},
   "outputs": [
    {
     "name": "stdout",
     "output_type": "stream",
     "text": [
      "6\n",
      "0\n",
      "24\n",
      "12\n",
      "2.0\n"
     ]
    }
   ],
   "source": [
    "a=6\n",
    "print(a)\n",
    "print(a%2)\n",
    "print(a*4)\n",
    "print(a+6)\n",
    "print(a/3)"
   ]
  },
  {
   "cell_type": "code",
   "execution_count": 14,
   "id": "2fdc1b9e",
   "metadata": {},
   "outputs": [
    {
     "name": "stdout",
     "output_type": "stream",
     "text": [
      "180\n",
      "170\n",
      "90\n",
      "170\n",
      "-10\n",
      "10\n",
      "900\n"
     ]
    }
   ],
   "source": [
    "a=10\n",
    "b=80\n",
    "c=90\n",
    "print(a+b+c)\n",
    "print(b+c)\n",
    "print(a+b)\n",
    "print(b+c)\n",
    "print(b-c)\n",
    "print(c-b)\n",
    "print(c*a)"
   ]
  },
  {
   "cell_type": "code",
   "execution_count": 19,
   "id": "906518f1",
   "metadata": {},
   "outputs": [
    {
     "ename": "SyntaxError",
     "evalue": "invalid syntax (2069683705.py, line 1)",
     "output_type": "error",
     "traceback": [
      "\u001b[1;36m  Input \u001b[1;32mIn [19]\u001b[1;36m\u001b[0m\n\u001b[1;33m    12abc=87\u001b[0m\n\u001b[1;37m      ^\u001b[0m\n\u001b[1;31mSyntaxError\u001b[0m\u001b[1;31m:\u001b[0m invalid syntax\n"
     ]
    }
   ],
   "source": [
    "12abc=87\n",
    "print(12abc)\n",
    "@87a=45\n",
    "print(@87a)"
   ]
  },
  {
   "cell_type": "markdown",
   "id": "d1b5fb74",
   "metadata": {},
   "source": [
    "-we can't start with numbers but can start with underscore,alphabet\n",
    "-case sensitive means differentiate depending upon lower case and upper case"
   ]
  },
  {
   "cell_type": "code",
   "execution_count": 21,
   "id": "51913ad7",
   "metadata": {},
   "outputs": [
    {
     "name": "stdout",
     "output_type": "stream",
     "text": [
      "90\n",
      "120\n",
      "87\n",
      "45\n",
      "65\n"
     ]
    }
   ],
   "source": [
    "a=90\n",
    "print(a)\n",
    "a=120\n",
    "print(a)\n",
    "a=87\n",
    "print(a)\n",
    "a=45\n",
    "print(a)\n",
    "A=65\n",
    "print(A)"
   ]
  },
  {
   "cell_type": "markdown",
   "id": "9df5b745",
   "metadata": {},
   "source": [
    "-reserved words can't be used"
   ]
  },
  {
   "cell_type": "code",
   "execution_count": 23,
   "id": "b97795ef",
   "metadata": {},
   "outputs": [
    {
     "ename": "SyntaxError",
     "evalue": "cannot assign to True (1998670680.py, line 1)",
     "output_type": "error",
     "traceback": [
      "\u001b[1;36m  Input \u001b[1;32mIn [23]\u001b[1;36m\u001b[0m\n\u001b[1;33m    True=54\u001b[0m\n\u001b[1;37m    ^\u001b[0m\n\u001b[1;31mSyntaxError\u001b[0m\u001b[1;31m:\u001b[0m cannot assign to True\n"
     ]
    }
   ],
   "source": [
    "True=54\n",
    "print(True)"
   ]
  },
  {
   "cell_type": "code",
   "execution_count": 24,
   "id": "601f6be2",
   "metadata": {},
   "outputs": [
    {
     "name": "stdout",
     "output_type": "stream",
     "text": [
      "87\n"
     ]
    }
   ],
   "source": [
    "true=87\n",
    "print(true)"
   ]
  },
  {
   "cell_type": "code",
   "execution_count": 26,
   "id": "857ee7ff",
   "metadata": {},
   "outputs": [
    {
     "name": "stdout",
     "output_type": "stream",
     "text": [
      "0\n"
     ]
    }
   ],
   "source": [
    "k=10\n",
    "print(k%2)"
   ]
  },
  {
   "cell_type": "markdown",
   "id": "6bb9a9cf",
   "metadata": {},
   "source": [
    "# Keywords"
   ]
  },
  {
   "cell_type": "markdown",
   "id": "98217079",
   "metadata": {},
   "source": [
    "-normal word but special function\n",
    "-meaning stored in the python interpreter\n",
    "-can't use as variable"
   ]
  },
  {
   "cell_type": "code",
   "execution_count": 28,
   "id": "fd7a63eb",
   "metadata": {},
   "outputs": [
    {
     "ename": "SyntaxError",
     "evalue": "invalid syntax (3115388005.py, line 1)",
     "output_type": "error",
     "traceback": [
      "\u001b[1;36m  Input \u001b[1;32mIn [28]\u001b[1;36m\u001b[0m\n\u001b[1;33m    if=98\u001b[0m\n\u001b[1;37m      ^\u001b[0m\n\u001b[1;31mSyntaxError\u001b[0m\u001b[1;31m:\u001b[0m invalid syntax\n"
     ]
    }
   ],
   "source": [
    "if=98\n",
    "print(if)"
   ]
  },
  {
   "cell_type": "code",
   "execution_count": 32,
   "id": "d815e978",
   "metadata": {},
   "outputs": [
    {
     "ename": "SyntaxError",
     "evalue": "cannot assign to True (3164589099.py, line 10)",
     "output_type": "error",
     "traceback": [
      "\u001b[1;36m  Input \u001b[1;32mIn [32]\u001b[1;36m\u001b[0m\n\u001b[1;33m    True=36\u001b[0m\n\u001b[1;37m    ^\u001b[0m\n\u001b[1;31mSyntaxError\u001b[0m\u001b[1;31m:\u001b[0m cannot assign to True\n"
     ]
    }
   ],
   "source": [
    "IF=56\n",
    "print(IF)\n",
    "\n",
    "While=10\n",
    "print(While)\n",
    "\n",
    "true=45\n",
    "print(true)\n",
    "\n",
    "True=36\n",
    "print(True)"
   ]
  },
  {
   "cell_type": "markdown",
   "id": "abf3f80f",
   "metadata": {},
   "source": [
    "# Datatypes"
   ]
  },
  {
   "cell_type": "markdown",
   "id": "c8844e9b",
   "metadata": {},
   "source": [
    "-int"
   ]
  },
  {
   "cell_type": "code",
   "execution_count": 34,
   "id": "f651480b",
   "metadata": {},
   "outputs": [
    {
     "name": "stdout",
     "output_type": "stream",
     "text": [
      "<class 'int'>\n",
      "<class 'int'>\n",
      "<class 'float'>\n",
      "0b111\n",
      "0b1010111\n",
      "0b11011101000\n",
      "0o647663560\n",
      "0x4dd\n"
     ]
    }
   ],
   "source": [
    "a=10\n",
    "print(type(a))\n",
    "\n",
    "b=-45\n",
    "print(type(b))\n",
    "\n",
    "m=98.98\n",
    "print(type(m))\n",
    "\n",
    "#decimal to binary\n",
    "print(bin(7))\n",
    "\n",
    "#oct to bin\n",
    "print(bin(87))\n",
    "\n",
    "#hexadecimal to bin\n",
    "print(bin(1768))\n",
    "\n",
    "#bin to oct\n",
    "print(oct(111110000))\n",
    "\n",
    "#decimal to hexadecimal\n",
    "print(hex(1245))"
   ]
  },
  {
   "cell_type": "markdown",
   "id": "ff6a83ab",
   "metadata": {},
   "source": [
    "-float"
   ]
  },
  {
   "cell_type": "code",
   "execution_count": 26,
   "id": "9414946d",
   "metadata": {},
   "outputs": [
    {
     "ename": "SyntaxError",
     "evalue": "invalid syntax (3027331403.py, line 14)",
     "output_type": "error",
     "traceback": [
      "\u001b[1;36m  Input \u001b[1;32mIn [26]\u001b[1;36m\u001b[0m\n\u001b[1;33m    x=0b11.1001\u001b[0m\n\u001b[1;37m          ^\u001b[0m\n\u001b[1;31mSyntaxError\u001b[0m\u001b[1;31m:\u001b[0m invalid syntax\n"
     ]
    }
   ],
   "source": [
    "per=70.89\n",
    "print(type(per))\n",
    "print(per)\n",
    "\n",
    "abc_=345.76\n",
    "print(type(abc_))\n",
    "\n",
    "sal=4.56e4\n",
    "print(sal)\n",
    "\n",
    "k=123_456_567.877898\n",
    "print(k)\n",
    "\n",
    "x=0b11.1001\n",
    "print(x)"
   ]
  },
  {
   "cell_type": "markdown",
   "id": "a2cd53e5",
   "metadata": {},
   "source": [
    "-complex"
   ]
  },
  {
   "cell_type": "markdown",
   "id": "bba60440",
   "metadata": {},
   "source": [
    "-having two part\n",
    "-real and imaginary\n"
   ]
  },
  {
   "cell_type": "code",
   "execution_count": 38,
   "id": "e2c15395",
   "metadata": {},
   "outputs": [
    {
     "ename": "SyntaxError",
     "evalue": "invalid syntax (3957585051.py, line 17)",
     "output_type": "error",
     "traceback": [
      "\u001b[1;36m  Input \u001b[1;32mIn [38]\u001b[1;36m\u001b[0m\n\u001b[1;33m    a=468+0o46j\u001b[0m\n\u001b[1;37m              ^\u001b[0m\n\u001b[1;31mSyntaxError\u001b[0m\u001b[1;31m:\u001b[0m invalid syntax\n"
     ]
    }
   ],
   "source": [
    "a=10+56j\n",
    "print(type(a))\n",
    "\n",
    "d=34+46J\n",
    "print(d)\n",
    "print(type(d))\n",
    "\n",
    "a=45.85+56j\n",
    "print(a)\n",
    "\n",
    "b=34.870+756.674j\n",
    "print(b)\n",
    "\n",
    "d=0o47+87j\n",
    "print(d)\n",
    "\n",
    "a=468+0o46j\n",
    "print(a)"
   ]
  },
  {
   "cell_type": "code",
   "execution_count": 46,
   "id": "288572d8",
   "metadata": {},
   "outputs": [
    {
     "name": "stdout",
     "output_type": "stream",
     "text": [
      "(30+50j)\n",
      "<class 'complex'>\n",
      "(20+10j)\n",
      "<class 'complex'>\n",
      "(-400+700j)\n",
      "<class 'complex'>\n",
      "20.0\n",
      "30.0\n"
     ]
    }
   ],
   "source": [
    "#add\n",
    "a=10+20j\n",
    "b=20+30j\n",
    "c=a+b\n",
    "print(c)\n",
    "print(type(c))\n",
    "\n",
    "#sub\n",
    "a=30+20j\n",
    "b=10+10j\n",
    "c=a-b\n",
    "print(c)\n",
    "print(type(c))\n",
    "\n",
    "#mul\n",
    "a=10+20j\n",
    "b=20+30j\n",
    "c=a*b\n",
    "print(c)\n",
    "print(type(c))\n",
    "\n",
    "#print real and imaginary part\n",
    "a=20+30j\n",
    "print(a.real)\n",
    "print(a.imag)"
   ]
  },
  {
   "cell_type": "code",
   "execution_count": 47,
   "id": "292f91dd",
   "metadata": {},
   "outputs": [
    {
     "ename": "SyntaxError",
     "evalue": "invalid syntax (714435327.py, line 1)",
     "output_type": "error",
     "traceback": [
      "\u001b[1;36m  Input \u001b[1;32mIn [47]\u001b[1;36m\u001b[0m\n\u001b[1;33m    a=10+30k\u001b[0m\n\u001b[1;37m           ^\u001b[0m\n\u001b[1;31mSyntaxError\u001b[0m\u001b[1;31m:\u001b[0m invalid syntax\n"
     ]
    }
   ],
   "source": [
    "a=10+30k\n",
    "print(a)"
   ]
  },
  {
   "cell_type": "code",
   "execution_count": 51,
   "id": "41501e8a",
   "metadata": {},
   "outputs": [
    {
     "name": "stdout",
     "output_type": "stream",
     "text": [
      "(10+20j)\n",
      "<class 'complex'>\n",
      "300j\n",
      "<class 'complex'>\n"
     ]
    }
   ],
   "source": [
    "a=10+20J\n",
    "print(a)\n",
    "print(type(a))\n",
    "\n",
    "a=100j+200j\n",
    "print(a)\n",
    "print(type(a))"
   ]
  },
  {
   "cell_type": "markdown",
   "id": "2429c6f4",
   "metadata": {},
   "source": [
    "-bool"
   ]
  },
  {
   "cell_type": "code",
   "execution_count": 55,
   "id": "d11b2821",
   "metadata": {},
   "outputs": [
    {
     "name": "stdout",
     "output_type": "stream",
     "text": [
      "True\n",
      "<class 'bool'>\n",
      "<class 'bool'>\n",
      "False\n",
      "True\n"
     ]
    }
   ],
   "source": [
    "a=True\n",
    "print(a)\n",
    "print(type(a))\n",
    "\n",
    "b=False\n",
    "print(type(b))\n",
    "print(b)\n",
    "\n",
    "a=90\n",
    "b=89\n",
    "result=a>b\n",
    "print(result)"
   ]
  },
  {
   "cell_type": "code",
   "execution_count": 56,
   "id": "a9b0ff44",
   "metadata": {},
   "outputs": [
    {
     "ename": "NameError",
     "evalue": "name 'true' is not defined",
     "output_type": "error",
     "traceback": [
      "\u001b[1;31m---------------------------------------------------------------------------\u001b[0m",
      "\u001b[1;31mNameError\u001b[0m                                 Traceback (most recent call last)",
      "Input \u001b[1;32mIn [56]\u001b[0m, in \u001b[0;36m<cell line: 1>\u001b[1;34m()\u001b[0m\n\u001b[1;32m----> 1\u001b[0m a\u001b[38;5;241m=\u001b[39m\u001b[43mtrue\u001b[49m\n\u001b[0;32m      2\u001b[0m \u001b[38;5;28mprint\u001b[39m(a)\n",
      "\u001b[1;31mNameError\u001b[0m: name 'true' is not defined"
     ]
    }
   ],
   "source": [
    "a=true\n",
    "print(a)"
   ]
  },
  {
   "cell_type": "code",
   "execution_count": 62,
   "id": "c66e15da",
   "metadata": {},
   "outputs": [
    {
     "name": "stdout",
     "output_type": "stream",
     "text": [
      "5\n",
      "1\n",
      "4\n",
      "0\n",
      "1\n",
      "1.0\n"
     ]
    }
   ],
   "source": [
    "print(True+True+True+True+True)\n",
    "print(True+False)\n",
    "print(True+True+True+True-False)\n",
    "print(False+False)\n",
    "print(True*True*True)\n",
    "print(True/True)"
   ]
  },
  {
   "cell_type": "markdown",
   "id": "928c4e1c",
   "metadata": {},
   "source": [
    "-string"
   ]
  },
  {
   "cell_type": "code",
   "execution_count": 71,
   "id": "6a2f3844",
   "metadata": {},
   "outputs": [
    {
     "name": "stdout",
     "output_type": "stream",
     "text": [
      "tarun\n",
      "<class 'str'>\n",
      "<class 'str'>\n",
      "Laxmi\n",
      "<class 'str'>\n",
      "hy i am \"here\"\n",
      "'kamal' is my friend\n"
     ]
    }
   ],
   "source": [
    "a='tarun'\n",
    "print(a)\n",
    "print(type(a))\n",
    "\n",
    "b=\"rahul\"\n",
    "print(type(b))\n",
    "\n",
    "b='''Laxmi'''\n",
    "print(b)\n",
    "print(type(b))\n",
    "\n",
    "a='hy i am \"here\"'\n",
    "print(a)\n",
    "\n",
    "b=\"'kamal' is my friend\"\n",
    "print(b)"
   ]
  },
  {
   "cell_type": "code",
   "execution_count": 70,
   "id": "f4560833",
   "metadata": {},
   "outputs": [
    {
     "ename": "SyntaxError",
     "evalue": "invalid syntax (2642678341.py, line 1)",
     "output_type": "error",
     "traceback": [
      "\u001b[1;36m  Input \u001b[1;32mIn [70]\u001b[1;36m\u001b[0m\n\u001b[1;33m    c='i love 'india''\u001b[0m\n\u001b[1;37m               ^\u001b[0m\n\u001b[1;31mSyntaxError\u001b[0m\u001b[1;31m:\u001b[0m invalid syntax\n"
     ]
    }
   ],
   "source": [
    "c='i love 'india''\n",
    "print(c)"
   ]
  },
  {
   "cell_type": "markdown",
   "id": "8d78c1eb",
   "metadata": {},
   "source": [
    "-access using index"
   ]
  },
  {
   "cell_type": "code",
   "execution_count": 77,
   "id": "383a8077",
   "metadata": {},
   "outputs": [
    {
     "name": "stdout",
     "output_type": "stream",
     "text": [
      "t\n",
      "o\n",
      "v\n",
      " \n",
      "r\n"
     ]
    },
    {
     "ename": "IndexError",
     "evalue": "string index out of range",
     "output_type": "error",
     "traceback": [
      "\u001b[1;31m---------------------------------------------------------------------------\u001b[0m",
      "\u001b[1;31mIndexError\u001b[0m                                Traceback (most recent call last)",
      "Input \u001b[1;32mIn [77]\u001b[0m, in \u001b[0;36m<cell line: 7>\u001b[1;34m()\u001b[0m\n\u001b[0;32m      5\u001b[0m \u001b[38;5;28mprint\u001b[39m(a[\u001b[38;5;241m6\u001b[39m])\n\u001b[0;32m      6\u001b[0m \u001b[38;5;28mprint\u001b[39m(a[\u001b[38;5;241m-\u001b[39m\u001b[38;5;241m6\u001b[39m])\n\u001b[1;32m----> 7\u001b[0m \u001b[38;5;28mprint\u001b[39m(\u001b[43ma\u001b[49m\u001b[43m[\u001b[49m\u001b[38;5;241;43m-\u001b[39;49m\u001b[38;5;241;43m65\u001b[39;49m\u001b[43m]\u001b[49m)\n",
      "\u001b[1;31mIndexError\u001b[0m: string index out of range"
     ]
    }
   ],
   "source": [
    "a='I love to eat biriyani'\n",
    "print(a[7])\n",
    "print(a[3])\n",
    "print(a[4])\n",
    "print(a[6])\n",
    "print(a[-6])\n",
    "print(a[-65])"
   ]
  },
  {
   "cell_type": "code",
   "execution_count": 79,
   "id": "74938359",
   "metadata": {},
   "outputs": [
    {
     "name": "stdout",
     "output_type": "stream",
     "text": [
      "i\n",
      "I\n"
     ]
    }
   ],
   "source": [
    "print(a[-5])\n",
    "print(a[-22])"
   ]
  },
  {
   "cell_type": "markdown",
   "id": "8cc393b6",
   "metadata": {},
   "source": [
    "-access using slice operator"
   ]
  },
  {
   "cell_type": "markdown",
   "id": "f543cd46",
   "metadata": {},
   "source": [
    "-[start index:stop index:step index]"
   ]
  },
  {
   "cell_type": "code",
   "execution_count": 108,
   "id": "0071ec7f",
   "metadata": {},
   "outputs": [
    {
     "name": "stdout",
     "output_type": "stream",
     "text": [
      "I love to eat biriyani\n",
      "oet a iiai\n",
      "I love to eat biriyani\n",
      "Ilv oetbryn\n",
      "Ilv oetbryn\n",
      "\n",
      "inayirib tae ot evol I\n",
      "iyit  oI\n",
      "\n",
      "\n",
      "inayirib tae ot ev\n",
      "biriyani\n",
      "inay\n",
      "I love to eat \n",
      "yan\n",
      "love to \n",
      "I love to eat biriyani\n",
      "I love to eat biriyani\n",
      "inayirib tae ot evol I\n",
      " love to \n",
      "\n",
      " love to eat biriyan\n",
      "I love to eat biriyan\n",
      "ve t\n",
      "\n",
      "evol\n"
     ]
    }
   ],
   "source": [
    "print(a[0:23:1])\n",
    "print(a[3:45:2])\n",
    "print(a[::])\n",
    "print(a[::2])\n",
    "print(a[:1000:2])\n",
    "print(a[1000:21:3])\n",
    "print(a[::-1])\n",
    "print(a[::-3])\n",
    "print(a[-20:-19:-1])\n",
    "print(a[7:16:-1])\n",
    "print(a[200:3:-1])\n",
    "print(a[-8::])\n",
    "print(a[-1:-5:-1])\n",
    "print(a[:-8:])\n",
    "print(a[-4:-1:])\n",
    "print(a[2:10])\n",
    "print(a[0::])\n",
    "print(a[::--1])\n",
    "print(a[::+-1])\n",
    "print(a[1:-12:])\n",
    "print(a[-1:-20:])\n",
    "print(a[True:-1:])\n",
    "print(a[False:-1:])\n",
    "print(a[True+3:8:1])\n",
    "print(a[True+3:8:-1])\n",
    "print(a[False+5:(True+True-1):-1])"
   ]
  },
  {
   "cell_type": "markdown",
   "id": "09d1ce33",
   "metadata": {},
   "source": [
    "# Typecasting"
   ]
  },
  {
   "cell_type": "code",
   "execution_count": 112,
   "id": "5258ad1a",
   "metadata": {},
   "outputs": [
    {
     "name": "stdout",
     "output_type": "stream",
     "text": [
      "2.0\n",
      "<class 'float'>\n",
      "40\n",
      "<class 'int'>\n",
      "54\n",
      "<class 'int'>\n",
      "100\n",
      "<class 'int'>\n"
     ]
    }
   ],
   "source": [
    "a=10\n",
    "b=5\n",
    "c=a/b\n",
    "print(c)\n",
    "print(type(c))\n",
    "\n",
    "a=20\n",
    "b=2\n",
    "c=a*b\n",
    "print(c)\n",
    "print(type(c))\n",
    "\n",
    "a=50\n",
    "b=4\n",
    "c=a+b\n",
    "print(c)\n",
    "print(type(c))\n",
    "\n",
    "a=10\n",
    "b=2\n",
    "c=a**b\n",
    "print(c)\n",
    "print(type(c))"
   ]
  },
  {
   "cell_type": "markdown",
   "id": "b48ea1c2",
   "metadata": {},
   "source": [
    "-other to int"
   ]
  },
  {
   "cell_type": "code",
   "execution_count": 115,
   "id": "9492f62a",
   "metadata": {},
   "outputs": [
    {
     "name": "stdout",
     "output_type": "stream",
     "text": [
      "453\n",
      "234\n"
     ]
    },
    {
     "ename": "TypeError",
     "evalue": "can't convert complex to int",
     "output_type": "error",
     "traceback": [
      "\u001b[1;31m---------------------------------------------------------------------------\u001b[0m",
      "\u001b[1;31mTypeError\u001b[0m                                 Traceback (most recent call last)",
      "Input \u001b[1;32mIn [115]\u001b[0m, in \u001b[0;36m<cell line: 7>\u001b[1;34m()\u001b[0m\n\u001b[0;32m      4\u001b[0m b\u001b[38;5;241m=\u001b[39m\u001b[38;5;28mint\u001b[39m(\u001b[38;5;241m234.76\u001b[39m)\n\u001b[0;32m      5\u001b[0m \u001b[38;5;28mprint\u001b[39m(b)\n\u001b[1;32m----> 7\u001b[0m a\u001b[38;5;241m=\u001b[39m\u001b[38;5;28;43mint\u001b[39;49m\u001b[43m(\u001b[49m\u001b[38;5;241;43m100\u001b[39;49m\u001b[38;5;241;43m+\u001b[39;49m\u001b[38;5;241;43m56\u001b[39;49m\u001b[43mj\u001b[49m\u001b[43m)\u001b[49m\n\u001b[0;32m      8\u001b[0m \u001b[38;5;28mprint\u001b[39m(a)\n",
      "\u001b[1;31mTypeError\u001b[0m: can't convert complex to int"
     ]
    }
   ],
   "source": [
    "a=int(453.87)\n",
    "print(a)\n",
    "\n",
    "b=int(234.76)\n",
    "print(b)\n",
    "\n",
    "a=int(100+56j)\n",
    "print(a)"
   ]
  },
  {
   "cell_type": "code",
   "execution_count": 120,
   "id": "5d89097e",
   "metadata": {},
   "outputs": [
    {
     "name": "stdout",
     "output_type": "stream",
     "text": [
      "1\n",
      "0\n",
      "2\n",
      "120\n"
     ]
    },
    {
     "ename": "ValueError",
     "evalue": "invalid literal for int() with base 10: 'Rahul'",
     "output_type": "error",
     "traceback": [
      "\u001b[1;31m---------------------------------------------------------------------------\u001b[0m",
      "\u001b[1;31mValueError\u001b[0m                                Traceback (most recent call last)",
      "Input \u001b[1;32mIn [120]\u001b[0m, in \u001b[0;36m<cell line: 13>\u001b[1;34m()\u001b[0m\n\u001b[0;32m     10\u001b[0m a\u001b[38;5;241m=\u001b[39m\u001b[38;5;28mint\u001b[39m(\u001b[38;5;124m'\u001b[39m\u001b[38;5;124m120\u001b[39m\u001b[38;5;124m'\u001b[39m)\n\u001b[0;32m     11\u001b[0m \u001b[38;5;28mprint\u001b[39m(a)\n\u001b[1;32m---> 13\u001b[0m a\u001b[38;5;241m=\u001b[39m\u001b[38;5;28;43mint\u001b[39;49m\u001b[43m(\u001b[49m\u001b[38;5;124;43m'\u001b[39;49m\u001b[38;5;124;43mRahul\u001b[39;49m\u001b[38;5;124;43m'\u001b[39;49m\u001b[43m)\u001b[49m\n\u001b[0;32m     14\u001b[0m \u001b[38;5;28mprint\u001b[39m(a)\n",
      "\u001b[1;31mValueError\u001b[0m: invalid literal for int() with base 10: 'Rahul'"
     ]
    }
   ],
   "source": [
    "a=int(True)\n",
    "print(a)\n",
    "\n",
    "a=int(False)\n",
    "print(a)\n",
    "\n",
    "a=int(True+True-False)\n",
    "print(a)\n",
    "\n",
    "a=int('120')\n",
    "print(a)\n",
    "\n",
    "a=int('Rahul')\n",
    "print(a)"
   ]
  },
  {
   "cell_type": "code",
   "execution_count": 121,
   "id": "07bd228c",
   "metadata": {},
   "outputs": [
    {
     "ename": "ValueError",
     "evalue": "invalid literal for int() with base 10: '234.54'",
     "output_type": "error",
     "traceback": [
      "\u001b[1;31m---------------------------------------------------------------------------\u001b[0m",
      "\u001b[1;31mValueError\u001b[0m                                Traceback (most recent call last)",
      "Input \u001b[1;32mIn [121]\u001b[0m, in \u001b[0;36m<cell line: 1>\u001b[1;34m()\u001b[0m\n\u001b[1;32m----> 1\u001b[0m a\u001b[38;5;241m=\u001b[39m\u001b[38;5;28;43mint\u001b[39;49m\u001b[43m(\u001b[49m\u001b[38;5;124;43m'\u001b[39;49m\u001b[38;5;124;43m234.54\u001b[39;49m\u001b[38;5;124;43m'\u001b[39;49m\u001b[43m)\u001b[49m\n\u001b[0;32m      2\u001b[0m \u001b[38;5;28mprint\u001b[39m(a)\n",
      "\u001b[1;31mValueError\u001b[0m: invalid literal for int() with base 10: '234.54'"
     ]
    }
   ],
   "source": [
    "a=int('234.54')\n",
    "print(a)"
   ]
  },
  {
   "cell_type": "code",
   "execution_count": 122,
   "id": "aa495058",
   "metadata": {},
   "outputs": [
    {
     "ename": "ValueError",
     "evalue": "invalid literal for int() with base 10: 'ob111'",
     "output_type": "error",
     "traceback": [
      "\u001b[1;31m---------------------------------------------------------------------------\u001b[0m",
      "\u001b[1;31mValueError\u001b[0m                                Traceback (most recent call last)",
      "Input \u001b[1;32mIn [122]\u001b[0m, in \u001b[0;36m<cell line: 1>\u001b[1;34m()\u001b[0m\n\u001b[1;32m----> 1\u001b[0m a\u001b[38;5;241m=\u001b[39m\u001b[38;5;28;43mint\u001b[39;49m\u001b[43m(\u001b[49m\u001b[38;5;124;43m'\u001b[39;49m\u001b[38;5;124;43mob111\u001b[39;49m\u001b[38;5;124;43m'\u001b[39;49m\u001b[43m)\u001b[49m\n\u001b[0;32m      2\u001b[0m \u001b[38;5;28mprint\u001b[39m(a)\n",
      "\u001b[1;31mValueError\u001b[0m: invalid literal for int() with base 10: 'ob111'"
     ]
    }
   ],
   "source": [
    "a=int('ob111')\n",
    "print(a)"
   ]
  },
  {
   "cell_type": "markdown",
   "id": "a6ce4f6a",
   "metadata": {},
   "source": [
    "-other to float"
   ]
  },
  {
   "cell_type": "code",
   "execution_count": 124,
   "id": "f67e02b5",
   "metadata": {},
   "outputs": [
    {
     "name": "stdout",
     "output_type": "stream",
     "text": [
      "123.0\n"
     ]
    },
    {
     "ename": "TypeError",
     "evalue": "can't convert complex to float",
     "output_type": "error",
     "traceback": [
      "\u001b[1;31m---------------------------------------------------------------------------\u001b[0m",
      "\u001b[1;31mTypeError\u001b[0m                                 Traceback (most recent call last)",
      "Input \u001b[1;32mIn [124]\u001b[0m, in \u001b[0;36m<cell line: 4>\u001b[1;34m()\u001b[0m\n\u001b[0;32m      1\u001b[0m a\u001b[38;5;241m=\u001b[39m\u001b[38;5;28mfloat\u001b[39m(\u001b[38;5;241m123\u001b[39m)\n\u001b[0;32m      2\u001b[0m \u001b[38;5;28mprint\u001b[39m(a)\n\u001b[1;32m----> 4\u001b[0m a\u001b[38;5;241m=\u001b[39m\u001b[38;5;28;43mfloat\u001b[39;49m\u001b[43m(\u001b[49m\u001b[38;5;241;43m234\u001b[39;49m\u001b[38;5;241;43m+\u001b[39;49m\u001b[38;5;241;43m45\u001b[39;49m\u001b[43mj\u001b[49m\u001b[43m)\u001b[49m\n\u001b[0;32m      5\u001b[0m \u001b[38;5;28mprint\u001b[39m(a)\n",
      "\u001b[1;31mTypeError\u001b[0m: can't convert complex to float"
     ]
    }
   ],
   "source": [
    "a=float(123)\n",
    "print(a)\n",
    "\n",
    "a=float(234+45j)\n",
    "print(a)"
   ]
  },
  {
   "cell_type": "code",
   "execution_count": 132,
   "id": "a9ab2d8f",
   "metadata": {},
   "outputs": [
    {
     "name": "stdout",
     "output_type": "stream",
     "text": [
      "1.0\n",
      "0.0\n",
      "2.0\n",
      "4.0\n",
      "165.0\n",
      "123.65\n"
     ]
    },
    {
     "ename": "ValueError",
     "evalue": "could not convert string to float: 'Hello'",
     "output_type": "error",
     "traceback": [
      "\u001b[1;31m---------------------------------------------------------------------------\u001b[0m",
      "\u001b[1;31mValueError\u001b[0m                                Traceback (most recent call last)",
      "Input \u001b[1;32mIn [132]\u001b[0m, in \u001b[0;36m<cell line: 19>\u001b[1;34m()\u001b[0m\n\u001b[0;32m     16\u001b[0m a\u001b[38;5;241m=\u001b[39m\u001b[38;5;28mfloat\u001b[39m(\u001b[38;5;124m'\u001b[39m\u001b[38;5;124m123.65\u001b[39m\u001b[38;5;124m'\u001b[39m)\n\u001b[0;32m     17\u001b[0m \u001b[38;5;28mprint\u001b[39m(a)\n\u001b[1;32m---> 19\u001b[0m a\u001b[38;5;241m=\u001b[39m\u001b[38;5;28;43mfloat\u001b[39;49m\u001b[43m(\u001b[49m\u001b[38;5;124;43m'\u001b[39;49m\u001b[38;5;124;43mHello\u001b[39;49m\u001b[38;5;124;43m'\u001b[39;49m\u001b[43m)\u001b[49m\n\u001b[0;32m     20\u001b[0m \u001b[38;5;28mprint\u001b[39m(a)\n",
      "\u001b[1;31mValueError\u001b[0m: could not convert string to float: 'Hello'"
     ]
    }
   ],
   "source": [
    "a=float(True)\n",
    "print(a)\n",
    "\n",
    "a=float(False)\n",
    "print(a)\n",
    "\n",
    "a=float(True+True)\n",
    "print(a)\n",
    "\n",
    "a=float(True+True+True+True-False-False)\n",
    "print(a)\n",
    "\n",
    "a=float('165')\n",
    "print(a)\n",
    "\n",
    "a=float('123.65')\n",
    "print(a)\n",
    "\n",
    "a=float('Hello')\n",
    "print(a)"
   ]
  },
  {
   "cell_type": "markdown",
   "id": "f50ff39a",
   "metadata": {},
   "source": [
    "-other to complex"
   ]
  },
  {
   "cell_type": "code",
   "execution_count": 140,
   "id": "0a0eb443",
   "metadata": {},
   "outputs": [
    {
     "name": "stdout",
     "output_type": "stream",
     "text": [
      "(10+0j)\n",
      "(234+0j)\n",
      "(34.756+0j)\n",
      "(4587+0j)\n",
      "(34.56+45j)\n",
      "(1+0j)\n",
      "0j\n",
      "(2+0j)\n"
     ]
    }
   ],
   "source": [
    "a=complex(10)\n",
    "print(a)\n",
    "\n",
    "a=complex(234)\n",
    "print(a)\n",
    "\n",
    "a=complex(34.756)\n",
    "print(a)\n",
    "\n",
    "a=complex(4587)\n",
    "print(a)\n",
    "\n",
    "a=complex(34.56+45j)\n",
    "print(a)\n",
    "\n",
    "a=complex(True)\n",
    "print(a)\n",
    "\n",
    "a=complex(False)\n",
    "print(a)\n",
    "\n",
    "a=complex(True+True)\n",
    "print(a)"
   ]
  },
  {
   "cell_type": "code",
   "execution_count": 144,
   "id": "e24bf7c3",
   "metadata": {},
   "outputs": [
    {
     "name": "stdout",
     "output_type": "stream",
     "text": [
      "(19+4j)\n",
      "(356.76+0j)\n",
      "(1+876j)\n"
     ]
    },
    {
     "ename": "ValueError",
     "evalue": "complex() arg is a malformed string",
     "output_type": "error",
     "traceback": [
      "\u001b[1;31m---------------------------------------------------------------------------\u001b[0m",
      "\u001b[1;31mValueError\u001b[0m                                Traceback (most recent call last)",
      "Input \u001b[1;32mIn [144]\u001b[0m, in \u001b[0;36m<cell line: 10>\u001b[1;34m()\u001b[0m\n\u001b[0;32m      7\u001b[0m a\u001b[38;5;241m=\u001b[39m\u001b[38;5;28mcomplex\u001b[39m(\u001b[38;5;28;01mTrue\u001b[39;00m,\u001b[38;5;241m876\u001b[39m)\n\u001b[0;32m      8\u001b[0m \u001b[38;5;28mprint\u001b[39m(a)\n\u001b[1;32m---> 10\u001b[0m a\u001b[38;5;241m=\u001b[39m\u001b[38;5;28;43mcomplex\u001b[39;49m\u001b[43m(\u001b[49m\u001b[38;5;124;43m'\u001b[39;49m\u001b[38;5;124;43mHello\u001b[39;49m\u001b[38;5;124;43m'\u001b[39;49m\u001b[43m)\u001b[49m\n\u001b[0;32m     11\u001b[0m \u001b[38;5;28mprint\u001b[39m(a)\n",
      "\u001b[1;31mValueError\u001b[0m: complex() arg is a malformed string"
     ]
    }
   ],
   "source": [
    "a=complex(19,4)\n",
    "print(a)\n",
    "\n",
    "a=complex('356.76')\n",
    "print(a)\n",
    "\n",
    "a=complex(True,876)\n",
    "print(a)\n",
    "\n",
    "a=complex('Hello')\n",
    "print(a)"
   ]
  },
  {
   "cell_type": "markdown",
   "id": "dc1476f2",
   "metadata": {},
   "source": [
    "-other to bool"
   ]
  },
  {
   "cell_type": "code",
   "execution_count": 158,
   "id": "19fe81c9",
   "metadata": {},
   "outputs": [
    {
     "name": "stdout",
     "output_type": "stream",
     "text": [
      "True\n",
      "False\n",
      "True\n",
      "True\n",
      "True\n",
      "False\n",
      "True\n",
      "True\n",
      "True\n",
      "True\n",
      "False\n",
      "True\n"
     ]
    }
   ],
   "source": [
    "a=bool(45)\n",
    "print(a)\n",
    "\n",
    "b=bool(0)\n",
    "print(b)\n",
    "\n",
    "a=bool(1)\n",
    "print(a)\n",
    "\n",
    "a=bool(445.87)\n",
    "print(a)\n",
    "\n",
    "a=bool(1.0)\n",
    "print(a)\n",
    "\n",
    "a=bool(0.0)\n",
    "print(a)\n",
    "\n",
    "a=bool(23+65j)\n",
    "print(a)\n",
    "\n",
    "a=bool(456+65j)\n",
    "print(a)\n",
    "\n",
    "a=bool('987')\n",
    "print(a)\n",
    "\n",
    "a=bool('hello')\n",
    "print(a)\n",
    "\n",
    "b=bool('')\n",
    "print(b)\n",
    "\n",
    "b=bool('True')\n",
    "print(b)"
   ]
  },
  {
   "cell_type": "markdown",
   "id": "88f68089",
   "metadata": {},
   "source": [
    "-othet to str"
   ]
  },
  {
   "cell_type": "code",
   "execution_count": 171,
   "id": "01db73ee",
   "metadata": {},
   "outputs": [
    {
     "name": "stdout",
     "output_type": "stream",
     "text": [
      "16\n",
      "<class 'str'>\n",
      "45\n",
      "456.76\n",
      "56.76\n",
      "True\n",
      "False\n",
      "Hey\n",
      "<class 'str'>\n"
     ]
    }
   ],
   "source": [
    "a=str(16)\n",
    "print(a)\n",
    "print(type(a))\n",
    "\n",
    "a=str(45)\n",
    "print(a)\n",
    "\n",
    "a=str(456.76)\n",
    "print(a)\n",
    "\n",
    "a=str(56.76)\n",
    "print(a)\n",
    "\n",
    "a=str(True)\n",
    "print(a)\n",
    "\n",
    "a=str(False)\n",
    "print(a)\n",
    "\n",
    "a=str('Hey')\n",
    "print(a)\n",
    "print(type(a))"
   ]
  },
  {
   "cell_type": "markdown",
   "id": "397b1630",
   "metadata": {},
   "source": [
    "# Bytes And ByteArray"
   ]
  },
  {
   "cell_type": "code",
   "execution_count": 11,
   "id": "9167c81a",
   "metadata": {},
   "outputs": [
    {
     "name": "stdout",
     "output_type": "stream",
     "text": [
      "10\n",
      "30\n"
     ]
    },
    {
     "ename": "IndexError",
     "evalue": "index out of range",
     "output_type": "error",
     "traceback": [
      "\u001b[1;31m---------------------------------------------------------------------------\u001b[0m",
      "\u001b[1;31mIndexError\u001b[0m                                Traceback (most recent call last)",
      "Input \u001b[1;32mIn [11]\u001b[0m, in \u001b[0;36m<cell line: 6>\u001b[1;34m()\u001b[0m\n\u001b[0;32m      4\u001b[0m \u001b[38;5;28mprint\u001b[39m(b[\u001b[38;5;241m0\u001b[39m])\n\u001b[0;32m      5\u001b[0m \u001b[38;5;28mprint\u001b[39m(b[\u001b[38;5;241m2\u001b[39m])\n\u001b[1;32m----> 6\u001b[0m \u001b[38;5;28mprint\u001b[39m(\u001b[43mb\u001b[49m\u001b[43m[\u001b[49m\u001b[38;5;241;43m4\u001b[39;49m\u001b[43m]\u001b[49m)\n",
      "\u001b[1;31mIndexError\u001b[0m: index out of range"
     ]
    }
   ],
   "source": [
    "#convert list to bytes\n",
    "a=[10,20,30,40]\n",
    "b=bytes(a)\n",
    "print(b[0])\n",
    "print(b[2])\n",
    "print(b[4])"
   ]
  },
  {
   "cell_type": "code",
   "execution_count": 16,
   "id": "08636c9e",
   "metadata": {},
   "outputs": [
    {
     "name": "stdout",
     "output_type": "stream",
     "text": [
      "40\n",
      "20\n",
      "30\n",
      "40\n"
     ]
    },
    {
     "ename": "IndexError",
     "evalue": "index out of range",
     "output_type": "error",
     "traceback": [
      "\u001b[1;31m---------------------------------------------------------------------------\u001b[0m",
      "\u001b[1;31mIndexError\u001b[0m                                Traceback (most recent call last)",
      "Input \u001b[1;32mIn [16]\u001b[0m, in \u001b[0;36m<cell line: 5>\u001b[1;34m()\u001b[0m\n\u001b[0;32m      3\u001b[0m \u001b[38;5;28mprint\u001b[39m(b[\u001b[38;5;241m-\u001b[39m\u001b[38;5;241m2\u001b[39m])\n\u001b[0;32m      4\u001b[0m \u001b[38;5;28mprint\u001b[39m(b[\u001b[38;5;241m-\u001b[39m\u001b[38;5;241m1\u001b[39m])\n\u001b[1;32m----> 5\u001b[0m \u001b[38;5;28mprint\u001b[39m(\u001b[43mb\u001b[49m\u001b[43m[\u001b[49m\u001b[38;5;241;43m-\u001b[39;49m\u001b[38;5;241;43m5\u001b[39;49m\u001b[43m]\u001b[49m)\n",
      "\u001b[1;31mIndexError\u001b[0m: index out of range"
     ]
    }
   ],
   "source": [
    "print(b[3])\n",
    "print(b[-3])\n",
    "print(b[-2])\n",
    "print(b[-1])\n",
    "print(b[-5])"
   ]
  },
  {
   "cell_type": "code",
   "execution_count": 22,
   "id": "56223891",
   "metadata": {},
   "outputs": [
    {
     "name": "stdout",
     "output_type": "stream",
     "text": [
      "10\n",
      "20\n",
      "30\n",
      "40\n",
      "-50\n"
     ]
    }
   ],
   "source": [
    "#using loop\n",
    "for i in a:\n",
    "    print(i)"
   ]
  },
  {
   "cell_type": "code",
   "execution_count": 25,
   "id": "e7924fcf",
   "metadata": {},
   "outputs": [
    {
     "name": "stdout",
     "output_type": "stream",
     "text": [
      "10\n",
      "255\n",
      "46\n",
      "57\n",
      "87\n"
     ]
    },
    {
     "ename": "ValueError",
     "evalue": "bytes must be in range(0, 256)",
     "output_type": "error",
     "traceback": [
      "\u001b[1;31m---------------------------------------------------------------------------\u001b[0m",
      "\u001b[1;31mValueError\u001b[0m                                Traceback (most recent call last)",
      "Input \u001b[1;32mIn [25]\u001b[0m, in \u001b[0;36m<cell line: 7>\u001b[1;34m()\u001b[0m\n\u001b[0;32m      4\u001b[0m     \u001b[38;5;28mprint\u001b[39m(i)\n\u001b[0;32m      6\u001b[0m a\u001b[38;5;241m=\u001b[39m[\u001b[38;5;241m10\u001b[39m,\u001b[38;5;241m444\u001b[39m,\u001b[38;5;241m36\u001b[39m,\u001b[38;5;241m48\u001b[39m]\n\u001b[1;32m----> 7\u001b[0m b\u001b[38;5;241m=\u001b[39m\u001b[38;5;28;43mbytes\u001b[39;49m\u001b[43m(\u001b[49m\u001b[43ma\u001b[49m\u001b[43m)\u001b[49m\n\u001b[0;32m      8\u001b[0m \u001b[38;5;28;01mfor\u001b[39;00m i \u001b[38;5;129;01min\u001b[39;00m b:\n\u001b[0;32m      9\u001b[0m     \u001b[38;5;28mprint\u001b[39m(i)\n",
      "\u001b[1;31mValueError\u001b[0m: bytes must be in range(0, 256)"
     ]
    }
   ],
   "source": [
    "a=[10,255,46,57,87]\n",
    "b=bytes(a)\n",
    "for i in b:\n",
    "    print(i)\n",
    "    \n",
    "a=[10,444,36,48]\n",
    "b=bytes(a)\n",
    "for i in b:\n",
    "    print(i)"
   ]
  },
  {
   "cell_type": "code",
   "execution_count": 24,
   "id": "3563350a",
   "metadata": {},
   "outputs": [
    {
     "ename": "ValueError",
     "evalue": "bytes must be in range(0, 256)",
     "output_type": "error",
     "traceback": [
      "\u001b[1;31m---------------------------------------------------------------------------\u001b[0m",
      "\u001b[1;31mValueError\u001b[0m                                Traceback (most recent call last)",
      "Input \u001b[1;32mIn [24]\u001b[0m, in \u001b[0;36m<cell line: 2>\u001b[1;34m()\u001b[0m\n\u001b[0;32m      1\u001b[0m a\u001b[38;5;241m=\u001b[39m[\u001b[38;5;241m10\u001b[39m,\u001b[38;5;241m20\u001b[39m,\u001b[38;5;241m30\u001b[39m,\u001b[38;5;241m40\u001b[39m,\u001b[38;5;241m-\u001b[39m\u001b[38;5;241m50\u001b[39m]\n\u001b[1;32m----> 2\u001b[0m b\u001b[38;5;241m=\u001b[39m\u001b[38;5;28;43mbytes\u001b[39;49m\u001b[43m(\u001b[49m\u001b[43ma\u001b[49m\u001b[43m)\u001b[49m\n\u001b[0;32m      3\u001b[0m \u001b[38;5;28;01mfor\u001b[39;00m i \u001b[38;5;129;01min\u001b[39;00m b:\n\u001b[0;32m      4\u001b[0m     \u001b[38;5;28mprint\u001b[39m(i)\n",
      "\u001b[1;31mValueError\u001b[0m: bytes must be in range(0, 256)"
     ]
    }
   ],
   "source": [
    "a=[10,20,30,40,-50]\n",
    "b=bytes(a)\n",
    "for i in b:\n",
    "    print(i)"
   ]
  },
  {
   "cell_type": "code",
   "execution_count": 27,
   "id": "992b88b1",
   "metadata": {},
   "outputs": [
    {
     "name": "stdout",
     "output_type": "stream",
     "text": [
      "11\n",
      "22\n",
      "33\n",
      "44\n"
     ]
    },
    {
     "ename": "TypeError",
     "evalue": "'bytes' object does not support item assignment",
     "output_type": "error",
     "traceback": [
      "\u001b[1;31m---------------------------------------------------------------------------\u001b[0m",
      "\u001b[1;31mTypeError\u001b[0m                                 Traceback (most recent call last)",
      "Input \u001b[1;32mIn [27]\u001b[0m, in \u001b[0;36m<cell line: 6>\u001b[1;34m()\u001b[0m\n\u001b[0;32m      3\u001b[0m \u001b[38;5;28;01mfor\u001b[39;00m i \u001b[38;5;129;01min\u001b[39;00m b:\n\u001b[0;32m      4\u001b[0m     \u001b[38;5;28mprint\u001b[39m(i)\n\u001b[1;32m----> 6\u001b[0m b[\u001b[38;5;241m2\u001b[39m]\u001b[38;5;241m=\u001b[39m\u001b[38;5;241m66\u001b[39m\n\u001b[0;32m      7\u001b[0m \u001b[38;5;28;01mfor\u001b[39;00m i \u001b[38;5;129;01min\u001b[39;00m b:\n\u001b[0;32m      8\u001b[0m     \u001b[38;5;28mprint\u001b[39m(i)\n",
      "\u001b[1;31mTypeError\u001b[0m: 'bytes' object does not support item assignment"
     ]
    }
   ],
   "source": [
    "a=[11,22,33,44]\n",
    "b=bytes(a)\n",
    "for i in b:\n",
    "    print(i)\n",
    "    \n",
    "b[2]=66\n",
    "for i in b:\n",
    "    print(i) #can't modify the index value"
   ]
  },
  {
   "cell_type": "markdown",
   "id": "99f4679e",
   "metadata": {},
   "source": [
    "-bytearray"
   ]
  },
  {
   "cell_type": "code",
   "execution_count": null,
   "id": "ddd5d686",
   "metadata": {},
   "outputs": [],
   "source": [
    "a=[10,20,30,40]\n",
    "b=bytearray(a)\n",
    "print(b[2])\n",
    "print(b[3])\n",
    "\n",
    "#modify the index value(any)\n",
    "b[2]=67\n",
    "for i in b:\n",
    "    print(i)\n",
    "    \n",
    "    "
   ]
  },
  {
   "cell_type": "markdown",
   "id": "51f23c24",
   "metadata": {},
   "source": [
    "# Range"
   ]
  },
  {
   "cell_type": "code",
   "execution_count": 35,
   "id": "0b7fd935",
   "metadata": {},
   "outputs": [
    {
     "name": "stdout",
     "output_type": "stream",
     "text": [
      "0\n",
      "1\n",
      "2\n",
      "3\n",
      "4\n",
      "5\n",
      "6\n",
      "7\n",
      "8\n",
      "9\n"
     ]
    }
   ],
   "source": [
    "a=range(10)\n",
    "for i in a:\n",
    "    print(i)"
   ]
  },
  {
   "cell_type": "markdown",
   "id": "f49580e2",
   "metadata": {},
   "source": [
    "-syntax\n",
    "[start,stop,increment]"
   ]
  },
  {
   "cell_type": "code",
   "execution_count": 40,
   "id": "99f5efec",
   "metadata": {},
   "outputs": [
    {
     "name": "stdout",
     "output_type": "stream",
     "text": [
      "1\n",
      "2\n",
      "3\n",
      "4\n",
      "5\n",
      "1\n",
      "5\n",
      "9\n",
      "13\n",
      "17\n",
      "60\n",
      "65\n"
     ]
    }
   ],
   "source": [
    "a=range(1,6)\n",
    "for i in a:\n",
    "    print(i)\n",
    "    \n",
    "b=range(1,21,4)    \n",
    "for i in b:\n",
    "    print(i)\n",
    "    \n",
    "a=range(60,70,5)   \n",
    "for i in a:\n",
    "    print(i)"
   ]
  },
  {
   "cell_type": "code",
   "execution_count": 44,
   "id": "c686824e",
   "metadata": {},
   "outputs": [
    {
     "name": "stdout",
     "output_type": "stream",
     "text": [
      "4\n",
      "6\n"
     ]
    },
    {
     "ename": "IndexError",
     "evalue": "range object index out of range",
     "output_type": "error",
     "traceback": [
      "\u001b[1;31m---------------------------------------------------------------------------\u001b[0m",
      "\u001b[1;31mIndexError\u001b[0m                                Traceback (most recent call last)",
      "Input \u001b[1;32mIn [44]\u001b[0m, in \u001b[0;36m<cell line: 4>\u001b[1;34m()\u001b[0m\n\u001b[0;32m      2\u001b[0m \u001b[38;5;28mprint\u001b[39m(a[\u001b[38;5;241m4\u001b[39m])\n\u001b[0;32m      3\u001b[0m \u001b[38;5;28mprint\u001b[39m(a[\u001b[38;5;241m6\u001b[39m])\n\u001b[1;32m----> 4\u001b[0m \u001b[38;5;28mprint\u001b[39m(\u001b[43ma\u001b[49m\u001b[43m[\u001b[49m\u001b[38;5;241;43m90\u001b[39;49m\u001b[43m]\u001b[49m)\n\u001b[0;32m      5\u001b[0m \u001b[38;5;28mprint\u001b[39m(a[\u001b[38;5;241m10\u001b[39m])\n",
      "\u001b[1;31mIndexError\u001b[0m: range object index out of range"
     ]
    }
   ],
   "source": [
    "a=range(10)\n",
    "print(a[4])\n",
    "print(a[6])\n",
    "print(a[90])\n",
    "print(a[10])"
   ]
  },
  {
   "cell_type": "code",
   "execution_count": 45,
   "id": "b1aa37f3",
   "metadata": {},
   "outputs": [
    {
     "ename": "TypeError",
     "evalue": "'range' object does not support item assignment",
     "output_type": "error",
     "traceback": [
      "\u001b[1;31m---------------------------------------------------------------------------\u001b[0m",
      "\u001b[1;31mTypeError\u001b[0m                                 Traceback (most recent call last)",
      "Input \u001b[1;32mIn [45]\u001b[0m, in \u001b[0;36m<cell line: 2>\u001b[1;34m()\u001b[0m\n\u001b[0;32m      1\u001b[0m a\u001b[38;5;241m=\u001b[39m\u001b[38;5;28mrange\u001b[39m(\u001b[38;5;241m20\u001b[39m)\n\u001b[1;32m----> 2\u001b[0m a[\u001b[38;5;241m16\u001b[39m]\u001b[38;5;241m=\u001b[39m\u001b[38;5;241m45\u001b[39m\n\u001b[0;32m      3\u001b[0m \u001b[38;5;28;01mfor\u001b[39;00m i \u001b[38;5;129;01min\u001b[39;00m a:\n\u001b[0;32m      4\u001b[0m     \u001b[38;5;28mprint\u001b[39m(i)\n",
      "\u001b[1;31mTypeError\u001b[0m: 'range' object does not support item assignment"
     ]
    }
   ],
   "source": [
    "a=range(20)\n",
    "a[16]=45\n",
    "for i in a:\n",
    "    print(i)"
   ]
  },
  {
   "cell_type": "markdown",
   "id": "f971b099",
   "metadata": {},
   "source": [
    "# Operators"
   ]
  },
  {
   "cell_type": "markdown",
   "id": "5f3f53cb",
   "metadata": {},
   "source": [
    "## arithmetic operators"
   ]
  },
  {
   "cell_type": "code",
   "execution_count": 56,
   "id": "4e049268",
   "metadata": {},
   "outputs": [
    {
     "name": "stdout",
     "output_type": "stream",
     "text": [
      "402\n",
      "398\n",
      "800\n",
      "200.0\n",
      "0\n",
      "160000\n",
      "200\n",
      "94.5\n",
      "94\n",
      "11.78\n",
      "11.0\n"
     ]
    }
   ],
   "source": [
    "a=400\n",
    "b=2\n",
    "print(a+b)\n",
    "print(a-b)\n",
    "print(a*b)\n",
    "print(a/b)\n",
    "print(a%b)\n",
    "print(a**b)\n",
    "print(a//b)\n",
    "\n",
    "x=567\n",
    "y=6\n",
    "print(x/y)\n",
    "print(x//y)\n",
    "\n",
    "m=23.56\n",
    "n=2\n",
    "print(m/n)\n",
    "print(m//n)"
   ]
  },
  {
   "cell_type": "code",
   "execution_count": 68,
   "id": "736a793b",
   "metadata": {},
   "outputs": [
    {
     "ename": "TypeError",
     "evalue": "can only concatenate str (not \"int\") to str",
     "output_type": "error",
     "traceback": [
      "\u001b[1;31m---------------------------------------------------------------------------\u001b[0m",
      "\u001b[1;31mTypeError\u001b[0m                                 Traceback (most recent call last)",
      "Input \u001b[1;32mIn [68]\u001b[0m, in \u001b[0;36m<cell line: 2>\u001b[1;34m()\u001b[0m\n\u001b[0;32m      1\u001b[0m k\u001b[38;5;241m=\u001b[39m\u001b[38;5;124m'\u001b[39m\u001b[38;5;124mRose\u001b[39m\u001b[38;5;124m'\u001b[39m\n\u001b[1;32m----> 2\u001b[0m \u001b[38;5;28mprint\u001b[39m(\u001b[43mk\u001b[49m\u001b[38;5;241;43m+\u001b[39;49m\u001b[38;5;241;43m18\u001b[39;49m)\n",
      "\u001b[1;31mTypeError\u001b[0m: can only concatenate str (not \"int\") to str"
     ]
    }
   ],
   "source": [
    "k='Rose'\n",
    "print(k+18)\n"
   ]
  },
  {
   "cell_type": "code",
   "execution_count": 69,
   "id": "c698f4e9",
   "metadata": {},
   "outputs": [
    {
     "ename": "TypeError",
     "evalue": "unsupported operand type(s) for -: 'str' and 'int'",
     "output_type": "error",
     "traceback": [
      "\u001b[1;31m---------------------------------------------------------------------------\u001b[0m",
      "\u001b[1;31mTypeError\u001b[0m                                 Traceback (most recent call last)",
      "Input \u001b[1;32mIn [69]\u001b[0m, in \u001b[0;36m<cell line: 1>\u001b[1;34m()\u001b[0m\n\u001b[1;32m----> 1\u001b[0m \u001b[38;5;28mprint\u001b[39m(\u001b[43mk\u001b[49m\u001b[38;5;241;43m-\u001b[39;49m\u001b[38;5;241;43m67\u001b[39;49m)\n",
      "\u001b[1;31mTypeError\u001b[0m: unsupported operand type(s) for -: 'str' and 'int'"
     ]
    }
   ],
   "source": [
    "print(k-67)"
   ]
  },
  {
   "cell_type": "code",
   "execution_count": 71,
   "id": "b6e34023",
   "metadata": {},
   "outputs": [
    {
     "ename": "TypeError",
     "evalue": "can only concatenate str (not \"float\") to str",
     "output_type": "error",
     "traceback": [
      "\u001b[1;31m---------------------------------------------------------------------------\u001b[0m",
      "\u001b[1;31mTypeError\u001b[0m                                 Traceback (most recent call last)",
      "Input \u001b[1;32mIn [71]\u001b[0m, in \u001b[0;36m<cell line: 1>\u001b[1;34m()\u001b[0m\n\u001b[1;32m----> 1\u001b[0m \u001b[38;5;28mprint\u001b[39m(\u001b[43mk\u001b[49m\u001b[38;5;241;43m+\u001b[39;49m\u001b[38;5;241;43m94.76\u001b[39;49m)\n",
      "\u001b[1;31mTypeError\u001b[0m: can only concatenate str (not \"float\") to str"
     ]
    }
   ],
   "source": [
    "print(k+94.76)"
   ]
  },
  {
   "cell_type": "code",
   "execution_count": 72,
   "id": "9c2e6936",
   "metadata": {},
   "outputs": [
    {
     "name": "stdout",
     "output_type": "stream",
     "text": [
      "Rose89\n",
      "RoseRoseRoseRoseRose\n"
     ]
    }
   ],
   "source": [
    "print(k+'89')\n",
    "print(k*5)"
   ]
  },
  {
   "cell_type": "code",
   "execution_count": 76,
   "id": "ba6ee687",
   "metadata": {},
   "outputs": [
    {
     "name": "stdout",
     "output_type": "stream",
     "text": [
      "37.0\n"
     ]
    }
   ],
   "source": [
    "x,b,c,d,e,f,g,h,i,j=1,2,3,4,5,6,77,8,9,30\n",
    "result=(x+b+j)//i*d+f%c/d*(b-x)//e+g//c\n",
    "print(result)"
   ]
  },
  {
   "cell_type": "markdown",
   "id": "b860cd46",
   "metadata": {},
   "source": [
    "## assignment operator"
   ]
  },
  {
   "cell_type": "code",
   "execution_count": 78,
   "id": "724954c5",
   "metadata": {},
   "outputs": [
    {
     "name": "stdout",
     "output_type": "stream",
     "text": [
      "675\n",
      "675\n",
      "675\n",
      "10 20 30 40\n"
     ]
    }
   ],
   "source": [
    "a=b=c=675\n",
    "print(a)\n",
    "print(b)\n",
    "print(c)\n",
    "\n",
    "a,b,c,d=10,20,30,40\n",
    "print(a,b,c,d)"
   ]
  },
  {
   "cell_type": "code",
   "execution_count": 88,
   "id": "9c1bfbd4",
   "metadata": {},
   "outputs": [
    {
     "name": "stdout",
     "output_type": "stream",
     "text": [
      "368\n",
      "94\n",
      "60\n",
      "30.0\n",
      "0.0\n",
      "0.0\n"
     ]
    }
   ],
   "source": [
    "#shorthand operator\n",
    "a=356\n",
    "a+=12\n",
    "print(a)\n",
    "\n",
    "b=100\n",
    "b-=6\n",
    "print(b)\n",
    "\n",
    "c=10\n",
    "c*=6\n",
    "print(c)\n",
    "c/=2\n",
    "print(c)\n",
    "c%=3\n",
    "print(c)\n",
    "c**=4\n",
    "print(c)"
   ]
  },
  {
   "cell_type": "code",
   "execution_count": 98,
   "id": "712eba0f",
   "metadata": {},
   "outputs": [
    {
     "name": "stdout",
     "output_type": "stream",
     "text": [
      "761\n",
      "3\n"
     ]
    }
   ],
   "source": [
    "x=4567\n",
    "x//=6\n",
    "print(x)\n",
    "s=3\n",
    "t=5\n",
    "s%=t\n",
    "print(s)"
   ]
  },
  {
   "cell_type": "markdown",
   "id": "84b03d56",
   "metadata": {},
   "source": [
    "## Relational operator"
   ]
  },
  {
   "cell_type": "code",
   "execution_count": 105,
   "id": "d0762290",
   "metadata": {},
   "outputs": [
    {
     "name": "stdout",
     "output_type": "stream",
     "text": [
      "False\n",
      "True\n",
      "False\n",
      "True\n",
      "False\n",
      "True\n"
     ]
    }
   ],
   "source": [
    "a=34\n",
    "b=45\n",
    "print(a>b)\n",
    "print(a<b)\n",
    "print(a>=b)\n",
    "print(a<=b)\n",
    "print(a==b)\n",
    "print(a!=b)"
   ]
  },
  {
   "cell_type": "code",
   "execution_count": 122,
   "id": "04fb8f65",
   "metadata": {},
   "outputs": [
    {
     "name": "stdout",
     "output_type": "stream",
     "text": [
      "False\n",
      "True\n",
      "True\n",
      "False\n",
      "False\n",
      "False\n",
      "True\n",
      "True\n"
     ]
    }
   ],
   "source": [
    "a='ccc'\n",
    "b='ddd'\n",
    "print(a>b)\n",
    "print(a<b)\n",
    "print(a<=b)\n",
    "print(a>=b)\n",
    "\n",
    "x='Laxmipriya'\n",
    "y='Laxmipriya'\n",
    "print(x>y)\n",
    "print(x<y)\n",
    "print(x<=y)\n",
    "print(x>=y)"
   ]
  },
  {
   "cell_type": "code",
   "execution_count": 126,
   "id": "5c1cc624",
   "metadata": {},
   "outputs": [
    {
     "name": "stdout",
     "output_type": "stream",
     "text": [
      "False\n",
      "False\n",
      "True\n",
      "False\n",
      "False\n",
      "True\n",
      "True\n",
      "False\n",
      "False\n"
     ]
    }
   ],
   "source": [
    "print(True>True)\n",
    "print(False>False)\n",
    "print(True>False)\n",
    "print(False>True)\n",
    "print(11>22>33>44)\n",
    "print(11<22<33<44)\n",
    "print(\"Laxmi\"==\"Laxmi\")\n",
    "print(\"Laxmi\"=='laxmi')\n",
    "print(234=='Laxmi')"
   ]
  },
  {
   "cell_type": "code",
   "execution_count": 123,
   "id": "3e433920",
   "metadata": {},
   "outputs": [
    {
     "ename": "TypeError",
     "evalue": "'>' not supported between instances of 'int' and 'str'",
     "output_type": "error",
     "traceback": [
      "\u001b[1;31m---------------------------------------------------------------------------\u001b[0m",
      "\u001b[1;31mTypeError\u001b[0m                                 Traceback (most recent call last)",
      "Input \u001b[1;32mIn [123]\u001b[0m, in \u001b[0;36m<cell line: 1>\u001b[1;34m()\u001b[0m\n\u001b[1;32m----> 1\u001b[0m \u001b[38;5;28mprint\u001b[39m(\u001b[38;5;241;43m100\u001b[39;49m\u001b[38;5;241;43m>\u001b[39;49m\u001b[38;5;124;43m'\u001b[39;49m\u001b[38;5;124;43mmy\u001b[39;49m\u001b[38;5;124;43m'\u001b[39;49m)\n",
      "\u001b[1;31mTypeError\u001b[0m: '>' not supported between instances of 'int' and 'str'"
     ]
    }
   ],
   "source": [
    "print(100>'my')"
   ]
  },
  {
   "cell_type": "markdown",
   "id": "37b805ce",
   "metadata": {},
   "source": [
    "## Logical operator"
   ]
  },
  {
   "cell_type": "code",
   "execution_count": 136,
   "id": "6c39842a",
   "metadata": {},
   "outputs": [
    {
     "name": "stdout",
     "output_type": "stream",
     "text": [
      "True\n",
      "False\n",
      "False\n",
      "False\n",
      "True\n",
      "True\n",
      "False\n",
      "True\n",
      "False\n",
      "True\n"
     ]
    }
   ],
   "source": [
    "#boolean type\n",
    "print(True and True)\n",
    "print(True and False)\n",
    "print(False and True)\n",
    "print(False and False)\n",
    "print(True or True)\n",
    "print(True or False)\n",
    "print(False or False)\n",
    "print(False or True)\n",
    "print(not True)\n",
    "print(not False)"
   ]
  },
  {
   "cell_type": "code",
   "execution_count": 1,
   "id": "88952acd",
   "metadata": {},
   "outputs": [
    {
     "name": "stdout",
     "output_type": "stream",
     "text": [
      "15\n",
      "0\n",
      "10\n",
      "16\n",
      "False\n",
      "False\n",
      "True\n",
      "False\n",
      "False\n",
      "False\n",
      "coffee\n",
      "Apple\n"
     ]
    }
   ],
   "source": [
    "#nonboolean type\n",
    "print(10 and 15)\n",
    "print(0 and 15)\n",
    "print(10 or 15)\n",
    "print(0 or 16)\n",
    "print(not 36)\n",
    "print(not 6)\n",
    "print(not 0)\n",
    "print(not 1)\n",
    "print(not'Laxmi')\n",
    "print(not ' ')\n",
    "print('Apple' and 'coffee')\n",
    "print('Apple' or 'coffe')"
   ]
  },
  {
   "cell_type": "markdown",
   "id": "21275a03",
   "metadata": {},
   "source": [
    "## Unary minus operator"
   ]
  },
  {
   "cell_type": "code",
   "execution_count": 152,
   "id": "24462acf",
   "metadata": {},
   "outputs": [
    {
     "name": "stdout",
     "output_type": "stream",
     "text": [
      "578\n",
      "-578\n",
      "-468\n",
      "468\n"
     ]
    }
   ],
   "source": [
    "num=578\n",
    "print(num)\n",
    "print(-num)\n",
    "num1=-468\n",
    "print(num1)\n",
    "print(-num1)"
   ]
  },
  {
   "cell_type": "markdown",
   "id": "856dd70e",
   "metadata": {},
   "source": [
    "## special operator"
   ]
  },
  {
   "cell_type": "markdown",
   "id": "47437dfa",
   "metadata": {},
   "source": [
    "-identity operator compare the address \n",
    "-is ,is not"
   ]
  },
  {
   "cell_type": "code",
   "execution_count": 159,
   "id": "7e07413e",
   "metadata": {},
   "outputs": [
    {
     "name": "stdout",
     "output_type": "stream",
     "text": [
      "True\n",
      "1521821375824\n",
      "1521821375824\n"
     ]
    }
   ],
   "source": [
    "a=160\n",
    "b=160\n",
    "print(a is b)\n",
    "print(id(a))\n",
    "print(id(b))"
   ]
  },
  {
   "cell_type": "code",
   "execution_count": 163,
   "id": "be2884d5",
   "metadata": {},
   "outputs": [
    {
     "name": "stdout",
     "output_type": "stream",
     "text": [
      "False\n",
      "True\n",
      "1521938177008\n",
      "1521938177392\n"
     ]
    }
   ],
   "source": [
    "a=4675\n",
    "b=3564\n",
    "print(a is b)\n",
    "print(a is not b)\n",
    "print(id(a))\n",
    "print(id(b))"
   ]
  },
  {
   "cell_type": "code",
   "execution_count": 167,
   "id": "e2da2b83",
   "metadata": {},
   "outputs": [
    {
     "name": "stdout",
     "output_type": "stream",
     "text": [
      "True\n",
      "False\n",
      "True\n",
      "False\n"
     ]
    }
   ],
   "source": [
    "a='laxmi'\n",
    "b='laxmi'\n",
    "print(a is b)\n",
    "print(a is not b)\n",
    "\n",
    "x=True\n",
    "y=True\n",
    "print(x is y)\n",
    "print(x is not y)"
   ]
  },
  {
   "cell_type": "markdown",
   "id": "3a534716",
   "metadata": {},
   "source": [
    "-membership operator check the sequence of object\n",
    "-in ,not in"
   ]
  },
  {
   "cell_type": "code",
   "execution_count": 175,
   "id": "ece9b5df",
   "metadata": {},
   "outputs": [
    {
     "name": "stdout",
     "output_type": "stream",
     "text": [
      "True\n",
      "True\n",
      "False\n",
      "True\n",
      "False\n",
      "True\n",
      "False\n",
      "True\n"
     ]
    }
   ],
   "source": [
    "a='My name is Divi'\n",
    "print('D' in a)\n",
    "print('name' in a)\n",
    "print('u' in a)\n",
    "print('s' in a)\n",
    "print('m' not in a)\n",
    "print('z' not in a)\n",
    "print(' ' not in a)\n",
    "print(' ' in a)"
   ]
  },
  {
   "cell_type": "code",
   "execution_count": 181,
   "id": "f7ed467a",
   "metadata": {},
   "outputs": [
    {
     "name": "stdout",
     "output_type": "stream",
     "text": [
      "False\n",
      "True\n",
      "False\n",
      "True\n",
      "True\n",
      "False\n"
     ]
    }
   ],
   "source": [
    "l=['kajal','shiva','rahul','kavita']\n",
    "print('Kajal' in l)\n",
    "print('kajal' in l)\n",
    "print('rahul' not in l)\n",
    "print('tom' not in l)\n",
    "print('jerry' not in l)\n",
    "print('laxmi' in l)"
   ]
  },
  {
   "cell_type": "markdown",
   "id": "9b589880",
   "metadata": {},
   "source": [
    "## Dynamic input"
   ]
  },
  {
   "cell_type": "code",
   "execution_count": 4,
   "id": "c7448d2f",
   "metadata": {},
   "outputs": [
    {
     "name": "stdout",
     "output_type": "stream",
     "text": [
      "Enter ur number45\n",
      "Enter ur number45\n",
      "4545\n",
      "<class 'str'>\n"
     ]
    }
   ],
   "source": [
    "a=input('Enter ur number')\n",
    "b=input('Enter ur number')\n",
    "c=a+b\n",
    "print(c)\n",
    "print(type(c))"
   ]
  },
  {
   "cell_type": "code",
   "execution_count": 5,
   "id": "a0aa7ea8",
   "metadata": {},
   "outputs": [
    {
     "name": "stdout",
     "output_type": "stream",
     "text": [
      "Enter ur number30\n",
      "Enter ur number30\n",
      "60\n",
      "<class 'int'>\n"
     ]
    }
   ],
   "source": [
    "a=int(input('Enter ur number'))\n",
    "b=int(input('Enter ur number'))\n",
    "c=a+b\n",
    "print(c)\n",
    "print(type(c))"
   ]
  },
  {
   "cell_type": "code",
   "execution_count": 6,
   "id": "b97bc815",
   "metadata": {},
   "outputs": [
    {
     "name": "stdout",
     "output_type": "stream",
     "text": [
      "Enter ur namelaxmi\n",
      "laxmi\n",
      "<class 'str'>\n"
     ]
    }
   ],
   "source": [
    "a=input('Enter ur name')\n",
    "print(a)\n",
    "print(type(a))"
   ]
  },
  {
   "cell_type": "markdown",
   "id": "9bcefac8",
   "metadata": {},
   "source": [
    "# Conditional statement"
   ]
  },
  {
   "cell_type": "markdown",
   "id": "620ae69b",
   "metadata": {},
   "source": [
    "-There are three type of conditional statement.\n",
    "-if\n",
    "-if-else\n",
    "-if-elif-else"
   ]
  },
  {
   "cell_type": "code",
   "execution_count": 10,
   "id": "177f0acb",
   "metadata": {},
   "outputs": [
    {
     "name": "stdout",
     "output_type": "stream",
     "text": [
      "Input a number here0\n",
      "Entered number is zero\n"
     ]
    }
   ],
   "source": [
    "#number is +ve or -ve\n",
    "a=int(input('Input a number here'))\n",
    "if a==0:\n",
    "    print('Entered number is zero')\n",
    "elif a>0:\n",
    "    print('Entered number is positive')\n",
    "else:\n",
    "    print('Entered number is negative')"
   ]
  },
  {
   "cell_type": "markdown",
   "id": "56e84d5f",
   "metadata": {},
   "source": [
    "# Looping"
   ]
  },
  {
   "cell_type": "markdown",
   "id": "a3cd3189",
   "metadata": {},
   "source": [
    "-There are two types of loops in python\n",
    "1.while loop\n",
    "2.for loop"
   ]
  },
  {
   "cell_type": "markdown",
   "id": "f9da4d7b",
   "metadata": {},
   "source": [
    "## While loop"
   ]
  },
  {
   "cell_type": "markdown",
   "id": "be0e55f3",
   "metadata": {},
   "source": [
    "-there things that required\n",
    "start,stop,step\n",
    "-syntax\n",
    "while condition:\n",
    "     bodypart\n"
   ]
  },
  {
   "cell_type": "code",
   "execution_count": 1,
   "id": "2ea0c52a",
   "metadata": {},
   "outputs": [
    {
     "name": "stdout",
     "output_type": "stream",
     "text": [
      "Laxmi\n",
      "Laxmi\n",
      "Laxmi\n",
      "Laxmi\n",
      "Laxmi\n",
      "Laxmi\n",
      "Laxmi\n",
      "Laxmi\n",
      "Laxmi\n",
      "Laxmi\n",
      "55\n"
     ]
    }
   ],
   "source": [
    "i=1\n",
    "while i<=10:\n",
    "        print(\"Laxmi\")\n",
    "        i=i+1\n",
    "        \n",
    "        \n",
    "a=1\n",
    "result=0\n",
    "while a<=10:\n",
    "    result=result+a\n",
    "    a=a+1\n",
    "print(result)    "
   ]
  },
  {
   "cell_type": "markdown",
   "id": "d26b5d99",
   "metadata": {},
   "source": [
    "### break statement"
   ]
  },
  {
   "cell_type": "code",
   "execution_count": 2,
   "id": "2be875f1",
   "metadata": {},
   "outputs": [
    {
     "name": "stdout",
     "output_type": "stream",
     "text": [
      "1\n",
      "2\n",
      "3\n",
      "4\n"
     ]
    }
   ],
   "source": [
    "i=1\n",
    "while i<=10:\n",
    "    if i==5:\n",
    "        break\n",
    "    print(i)\n",
    "    i=i+1"
   ]
  },
  {
   "cell_type": "markdown",
   "id": "e7a71bb0",
   "metadata": {},
   "source": [
    "### while with else block "
   ]
  },
  {
   "cell_type": "code",
   "execution_count": 2,
   "id": "102c9012",
   "metadata": {},
   "outputs": [
    {
     "name": "stdout",
     "output_type": "stream",
     "text": [
      "1\n",
      "2\n",
      "3\n",
      "4\n",
      "5\n",
      "6\n",
      "7\n",
      "8\n",
      "9\n",
      "10\n",
      "This is else block\n"
     ]
    }
   ],
   "source": [
    "i=1\n",
    "while i<=10:\n",
    "    print(i)\n",
    "    i=i+1\n",
    "else:\n",
    "    print('This is else block')"
   ]
  },
  {
   "cell_type": "markdown",
   "id": "45161765",
   "metadata": {},
   "source": [
    "## for loop"
   ]
  },
  {
   "cell_type": "code",
   "execution_count": 4,
   "id": "874e2e72",
   "metadata": {},
   "outputs": [
    {
     "name": "stdout",
     "output_type": "stream",
     "text": [
      "Laxmipriya\n",
      "Laxmipriya\n",
      "Laxmipriya\n",
      "Laxmipriya\n",
      "Laxmipriya\n",
      "Laxmipriya\n",
      "Laxmipriya\n",
      "Laxmipriya\n",
      "Laxmipriya\n",
      "Laxmipriya\n"
     ]
    }
   ],
   "source": [
    "for i in range(10):\n",
    "    print('Laxmipriya')"
   ]
  },
  {
   "cell_type": "code",
   "execution_count": 8,
   "id": "52470bf2",
   "metadata": {},
   "outputs": [
    {
     "name": "stdout",
     "output_type": "stream",
     "text": [
      "100\n",
      "102\n",
      "104\n",
      "106\n",
      "108\n",
      "110\n",
      "112\n",
      "114\n",
      "116\n",
      "118\n",
      "120\n",
      "L\n",
      "a\n",
      "x\n",
      "m\n",
      "i\n",
      "p\n",
      "r\n",
      "i\n",
      "y\n",
      "a\n"
     ]
    }
   ],
   "source": [
    "for i in range(100,121,2):\n",
    "    if(i%2==0):\n",
    "        print(i)\n",
    "        \n",
    "        \n",
    "        \n",
    "name='Laxmipriya'\n",
    "for a in name:\n",
    "    print(a)"
   ]
  },
  {
   "cell_type": "markdown",
   "id": "42b56b05",
   "metadata": {},
   "source": [
    "### nested for loop"
   ]
  },
  {
   "cell_type": "code",
   "execution_count": 9,
   "id": "05cb51a9",
   "metadata": {},
   "outputs": [
    {
     "name": "stdout",
     "output_type": "stream",
     "text": [
      "i=0 j=0\n",
      "i=0 j=1\n",
      "i=0 j=2\n",
      "i=0 j=3\n",
      "i=0 j=4\n",
      "i=1 j=0\n",
      "i=1 j=1\n",
      "i=1 j=2\n",
      "i=1 j=3\n",
      "i=1 j=4\n",
      "i=2 j=0\n",
      "i=2 j=1\n",
      "i=2 j=2\n",
      "i=2 j=3\n",
      "i=2 j=4\n",
      "i=3 j=0\n",
      "i=3 j=1\n",
      "i=3 j=2\n",
      "i=3 j=3\n",
      "i=3 j=4\n",
      "i=4 j=0\n",
      "i=4 j=1\n",
      "i=4 j=2\n",
      "i=4 j=3\n",
      "i=4 j=4\n"
     ]
    }
   ],
   "source": [
    "for i in range(5):\n",
    "    for j in range(5):\n",
    "        print(\"i={} j={}\".format(i,j))"
   ]
  },
  {
   "cell_type": "markdown",
   "id": "cfedc9d3",
   "metadata": {},
   "source": [
    "### continue statement"
   ]
  },
  {
   "cell_type": "code",
   "execution_count": 2,
   "id": "81f58227",
   "metadata": {},
   "outputs": [
    {
     "name": "stdout",
     "output_type": "stream",
     "text": [
      "0\n",
      "1\n",
      "2\n",
      "3\n",
      "4\n",
      "6\n",
      "7\n",
      "8\n",
      "9\n"
     ]
    }
   ],
   "source": [
    "for i in range(10):\n",
    "    if i==5:\n",
    "        continue\n",
    "    print(i)     "
   ]
  },
  {
   "cell_type": "markdown",
   "id": "1f0fdb1f",
   "metadata": {},
   "source": [
    "### pass statement"
   ]
  },
  {
   "cell_type": "code",
   "execution_count": 4,
   "id": "148c1e50",
   "metadata": {},
   "outputs": [
    {
     "name": "stdout",
     "output_type": "stream",
     "text": [
      "1\n",
      "3\n",
      "5\n",
      "7\n",
      "9\n"
     ]
    }
   ],
   "source": [
    "for i in range(10):\n",
    "    if i%2==0:\n",
    "        pass\n",
    "    else:\n",
    "        print(i)"
   ]
  },
  {
   "cell_type": "markdown",
   "id": "cdefdfb4",
   "metadata": {},
   "source": [
    "# del and None"
   ]
  },
  {
   "cell_type": "code",
   "execution_count": 12,
   "id": "feba3b9e",
   "metadata": {},
   "outputs": [
    {
     "name": "stdout",
     "output_type": "stream",
     "text": [
      "[10, 20, 30, 40, 50]\n",
      "[10, 20, 40, 50]\n",
      "[10, 20, 40]\n"
     ]
    },
    {
     "ename": "NameError",
     "evalue": "name 'a' is not defined",
     "output_type": "error",
     "traceback": [
      "\u001b[1;31m---------------------------------------------------------------------------\u001b[0m",
      "\u001b[1;31mNameError\u001b[0m                                 Traceback (most recent call last)",
      "Input \u001b[1;32mIn [12]\u001b[0m, in \u001b[0;36m<cell line: 9>\u001b[1;34m()\u001b[0m\n\u001b[0;32m      7\u001b[0m \u001b[38;5;28mprint\u001b[39m(a)\n\u001b[0;32m      8\u001b[0m \u001b[38;5;28;01mdel\u001b[39;00m(a)\n\u001b[1;32m----> 9\u001b[0m \u001b[38;5;28mprint\u001b[39m(\u001b[43ma\u001b[49m)\n",
      "\u001b[1;31mNameError\u001b[0m: name 'a' is not defined"
     ]
    }
   ],
   "source": [
    "#del\n",
    "a=[10,20,30,40,50]\n",
    "print(a)\n",
    "del(a[2])\n",
    "print(a)\n",
    "del(a[3])\n",
    "print(a)\n",
    "del(a)\n",
    "print(a)"
   ]
  },
  {
   "cell_type": "code",
   "execution_count": 8,
   "id": "3db55cc0",
   "metadata": {},
   "outputs": [
    {
     "name": "stdout",
     "output_type": "stream",
     "text": [
      "34\n"
     ]
    },
    {
     "ename": "NameError",
     "evalue": "name 'num' is not defined",
     "output_type": "error",
     "traceback": [
      "\u001b[1;31m---------------------------------------------------------------------------\u001b[0m",
      "\u001b[1;31mNameError\u001b[0m                                 Traceback (most recent call last)",
      "Input \u001b[1;32mIn [8]\u001b[0m, in \u001b[0;36m<cell line: 4>\u001b[1;34m()\u001b[0m\n\u001b[0;32m      2\u001b[0m \u001b[38;5;28mprint\u001b[39m(num)\n\u001b[0;32m      3\u001b[0m \u001b[38;5;28;01mdel\u001b[39;00m(num)\n\u001b[1;32m----> 4\u001b[0m \u001b[38;5;28mprint\u001b[39m(\u001b[43mnum\u001b[49m)\n",
      "\u001b[1;31mNameError\u001b[0m: name 'num' is not defined"
     ]
    }
   ],
   "source": [
    "num=34\n",
    "print(num)\n",
    "del(num)\n",
    "print(num)"
   ]
  },
  {
   "cell_type": "code",
   "execution_count": 10,
   "id": "d2e84b9a",
   "metadata": {},
   "outputs": [
    {
     "name": "stdout",
     "output_type": "stream",
     "text": [
      "laxmipriya\n"
     ]
    },
    {
     "ename": "TypeError",
     "evalue": "'str' object doesn't support item deletion",
     "output_type": "error",
     "traceback": [
      "\u001b[1;31m---------------------------------------------------------------------------\u001b[0m",
      "\u001b[1;31mTypeError\u001b[0m                                 Traceback (most recent call last)",
      "Input \u001b[1;32mIn [10]\u001b[0m, in \u001b[0;36m<cell line: 3>\u001b[1;34m()\u001b[0m\n\u001b[0;32m      1\u001b[0m name\u001b[38;5;241m=\u001b[39m\u001b[38;5;124m\"\u001b[39m\u001b[38;5;124mlaxmipriya\u001b[39m\u001b[38;5;124m\"\u001b[39m\n\u001b[0;32m      2\u001b[0m \u001b[38;5;28mprint\u001b[39m(name)\n\u001b[1;32m----> 3\u001b[0m \u001b[38;5;28;01mdel\u001b[39;00m(name[\u001b[38;5;241m4\u001b[39m])\n\u001b[0;32m      4\u001b[0m \u001b[38;5;28mprint\u001b[39m(num)\n",
      "\u001b[1;31mTypeError\u001b[0m: 'str' object doesn't support item deletion"
     ]
    }
   ],
   "source": [
    "name=\"laxmipriya\"\n",
    "print(name)\n",
    "del(name[4])\n",
    "print(num)"
   ]
  },
  {
   "cell_type": "code",
   "execution_count": 11,
   "id": "8285121e",
   "metadata": {},
   "outputs": [
    {
     "ename": "NameError",
     "evalue": "name 'name' is not defined",
     "output_type": "error",
     "traceback": [
      "\u001b[1;31m---------------------------------------------------------------------------\u001b[0m",
      "\u001b[1;31mNameError\u001b[0m                                 Traceback (most recent call last)",
      "Input \u001b[1;32mIn [11]\u001b[0m, in \u001b[0;36m<cell line: 2>\u001b[1;34m()\u001b[0m\n\u001b[0;32m      1\u001b[0m \u001b[38;5;28;01mdel\u001b[39;00m(name)\n\u001b[1;32m----> 2\u001b[0m \u001b[38;5;28mprint\u001b[39m(\u001b[43mname\u001b[49m)\n",
      "\u001b[1;31mNameError\u001b[0m: name 'name' is not defined"
     ]
    }
   ],
   "source": [
    "del(name)\n",
    "print(name)"
   ]
  },
  {
   "cell_type": "code",
   "execution_count": 15,
   "id": "b2821e06",
   "metadata": {},
   "outputs": [
    {
     "name": "stdout",
     "output_type": "stream",
     "text": [
      "Laxmi\n",
      "None\n",
      "Sudha\n"
     ]
    }
   ],
   "source": [
    "#None\n",
    "name1=\"Laxmi\"\n",
    "print(name1)\n",
    "name1=None\n",
    "print(name1)\n",
    "name1=\"Sudha\"\n",
    "print(name1)"
   ]
  },
  {
   "cell_type": "markdown",
   "id": "a1f116be",
   "metadata": {},
   "source": [
    "## Enumerate function"
   ]
  },
  {
   "cell_type": "code",
   "execution_count": 17,
   "id": "3f9dc027",
   "metadata": {},
   "outputs": [
    {
     "name": "stdout",
     "output_type": "stream",
     "text": [
      "0 , 10\n",
      "1 , 20\n",
      "2 , 30\n",
      "3 , 40\n",
      "4 , 50\n"
     ]
    }
   ],
   "source": [
    "l=[10,20,30,40,50]\n",
    "for i,j in enumerate(l):\n",
    "    print(i,\",\",j)\n",
    "#it will going to print value with index number    "
   ]
  },
  {
   "cell_type": "markdown",
   "id": "ddd1e203",
   "metadata": {},
   "source": [
    "# List"
   ]
  },
  {
   "cell_type": "code",
   "execution_count": 29,
   "id": "eb27716f",
   "metadata": {},
   "outputs": [
    {
     "name": "stdout",
     "output_type": "stream",
     "text": [
      "False\n",
      "True\n",
      "False\n",
      "False\n",
      "True\n",
      "True\n",
      "False\n",
      "False\n",
      "True\n",
      "True\n"
     ]
    }
   ],
   "source": [
    "a=[10,20,30,40,50,60]\n",
    "b=[10,20,30,40]\n",
    "c=[20,30,10,40]\n",
    "print(a==b)\n",
    "print(a!=b)\n",
    "print(a==c)\n",
    "print(b==c)\n",
    "print(b!=c)\n",
    "print(a!=c)\n",
    "print(a<b)\n",
    "print(a>c)\n",
    "print(a>=b)\n",
    "print(b<=c)"
   ]
  },
  {
   "cell_type": "code",
   "execution_count": 40,
   "id": "715f7fd1",
   "metadata": {},
   "outputs": [
    {
     "name": "stdout",
     "output_type": "stream",
     "text": [
      "[10, 20, 30, [11, 22, 33, 44], 40, 50]\n",
      "30\n",
      "[11, 22, 33, 44]\n",
      "22\n",
      "44\n",
      "[11, 22, 33, 44]\n",
      "33\n",
      "11\n"
     ]
    }
   ],
   "source": [
    "#Nested list\n",
    "l=[10,20,30,[11,22,33,44],40,50]\n",
    "print(l)\n",
    "print(l[2])\n",
    "print(l[3])\n",
    "print(l[3][1])\n",
    "print(l[3][3])\n",
    "print(l[-3])\n",
    "print(l[-3][-2])\n",
    "print(l[-3][-4])"
   ]
  },
  {
   "cell_type": "code",
   "execution_count": 47,
   "id": "ff2d2bef",
   "metadata": {},
   "outputs": [
    {
     "name": "stdout",
     "output_type": "stream",
     "text": [
      "[10, 20, [11, 22, [111, 222, 333, 444], 33, 44], 30, 40]\n",
      "[11, 22, [111, 222, 333, 444], 33, 44]\n",
      "[111, 222, 333, 444]\n",
      "444\n",
      "[11, 22, [111, 222, 333, 444], 33, 44]\n",
      "[111, 222, 333, 444]\n",
      "222\n"
     ]
    }
   ],
   "source": [
    "a=[10,20,[11,22,[111,222,333,444],33,44],30,40]\n",
    "print(a)\n",
    "print(a[2])\n",
    "print(a[2][2])\n",
    "print(a[2][2][3])\n",
    "print(a[-3])\n",
    "print(a[-3][-3])\n",
    "print(a[-3][-3][-3])"
   ]
  },
  {
   "cell_type": "code",
   "execution_count": 54,
   "id": "d7fbc05e",
   "metadata": {},
   "outputs": [
    {
     "name": "stdout",
     "output_type": "stream",
     "text": [
      "[[10, 20, 30, 40], [50, 60, 70, 80], [90, 110, 120, 130]]\n",
      "[90, 110, 120, 130]\n",
      "[50, 60, 70, 80]\n",
      "[10, 20, 30, 40]\n",
      "[10, 20, 30, 40]\n",
      "[50, 60, 70, 80]\n",
      "[90, 110, 120, 130]\n"
     ]
    }
   ],
   "source": [
    "l=[\n",
    "    [10,20,30,40],\n",
    "    [50,60,70,80],\n",
    "    [90,110,120,130]\n",
    "]\n",
    "print(l)\n",
    "print(l[2])\n",
    "print(l[1])\n",
    "print(l[0])\n",
    "for i in l:\n",
    "    print(i)"
   ]
  },
  {
   "cell_type": "code",
   "execution_count": 55,
   "id": "62593092",
   "metadata": {},
   "outputs": [
    {
     "name": "stdout",
     "output_type": "stream",
     "text": [
      "[[90, 110, 120, 130], [50, 60, 70, 80], [10, 20, 30, 40]]\n"
     ]
    }
   ],
   "source": [
    "#reverse the list\n",
    "l.reverse()\n",
    "print(l)"
   ]
  },
  {
   "cell_type": "code",
   "execution_count": 56,
   "id": "59f42d31",
   "metadata": {},
   "outputs": [
    {
     "name": "stdout",
     "output_type": "stream",
     "text": [
      "[50, 40, [11, 22, 33, 44], 30, 20, 10]\n"
     ]
    }
   ],
   "source": [
    "a=[10,20,30,[11,22,33,44],40,50]\n",
    "a.reverse()\n",
    "print(a)"
   ]
  },
  {
   "cell_type": "code",
   "execution_count": 57,
   "id": "644a08b7",
   "metadata": {},
   "outputs": [
    {
     "name": "stdout",
     "output_type": "stream",
     "text": [
      "[0, 1, 2, 3, 4, 5, 6, 7, 8, 9]\n"
     ]
    }
   ],
   "source": [
    "#list comprehension\n",
    "l=[i for i in range(10)]\n",
    "print(l)"
   ]
  },
  {
   "cell_type": "code",
   "execution_count": 64,
   "id": "f2c2d981",
   "metadata": {},
   "outputs": [
    {
     "name": "stdout",
     "output_type": "stream",
     "text": [
      "[0, 1, 4, 9, 16, 25, 36, 49, 64, 81, 100, 121, 144, 169, 196, 225, 256, 289, 324, 361, 400]\n",
      "[0, 1, 8, 27, 64, 125, 216, 343, 512, 729, 1000, 1331, 1728, 2197, 2744, 3375, 4096, 4913, 5832, 6859, 8000]\n",
      "[1, 1, 4, 27, 256, 3125, 46656, 823543, 16777216, 387420489]\n",
      "[0, 2, 4, 6, 8, 10, 12, 14, 16, 18, 20, 22, 24, 26, 28, 30, 32, 34, 36, 38, 40]\n",
      "[0, 0, 0, 0, 0, 0, 0, 0, 0, 0, 0, 0, 0, 0, 0, 0, 0, 0, 0, 0, 0]\n",
      "[0, 2, 4, 6, 8, 10]\n"
     ]
    }
   ],
   "source": [
    "l=[i*i for i in range(21)]\n",
    "print(l)\n",
    "\n",
    "l=[i*i*i for i in range(21)]\n",
    "print(l)\n",
    "\n",
    "l=[i**i for i in range(10)]\n",
    "print(l)\n",
    "\n",
    "l=[i+i for i in range(21)]\n",
    "print(l)\n",
    "\n",
    "l=[i-i for i in range(21)]\n",
    "print(l)\n",
    "\n",
    "l=[i for i in range(11) if i%2==0]\n",
    "print(l)"
   ]
  },
  {
   "cell_type": "code",
   "execution_count": 5,
   "id": "53e4f07f",
   "metadata": {},
   "outputs": [
    {
     "name": "stdout",
     "output_type": "stream",
     "text": [
      "['R', 'L', 'D', 'H']\n"
     ]
    }
   ],
   "source": [
    "names=['Rahul','Lucky','Divya','Harsh']\n",
    "l=[i[0] for i in names]\n",
    "print(l)"
   ]
  },
  {
   "cell_type": "code",
   "execution_count": 7,
   "id": "0c4be654",
   "metadata": {},
   "outputs": [
    {
     "name": "stdout",
     "output_type": "stream",
     "text": [
      "['Rahul', 'Lucky', 'Harsh']\n",
      "[10, 20, 30, 40, 50]\n",
      "[[0, 1, 2, 3, 4], [0, 1, 2, 3, 4], [0, 1, 2, 3, 4], [0, 1, 2, 3, 4], [0, 1, 2, 3, 4]]\n"
     ]
    }
   ],
   "source": [
    "name1=[\"Rahul\",\"Lucky\",\"Divya\",\"Harsh\"]\n",
    "n=[i for i in name1 if i!='Divya' in name1]\n",
    "print(n)\n",
    "\n",
    "\n",
    "\n",
    "m=(10,20,30,40,50)\n",
    "l1=[i for i in m]\n",
    "print(l1)\n",
    "\n",
    "k=[[j for j in range(5)] for i in range(5)]\n",
    "print(k)"
   ]
  },
  {
   "cell_type": "code",
   "execution_count": 9,
   "id": "6e290eb4",
   "metadata": {},
   "outputs": [
    {
     "name": "stdout",
     "output_type": "stream",
     "text": [
      "[10, 20, 30]\n",
      "[10, 20, 30, 40]\n"
     ]
    }
   ],
   "source": [
    "#append() -joint at the end\n",
    "l=[10,20,30]\n",
    "print(l)\n",
    "l.append(40)\n",
    "print(l)"
   ]
  },
  {
   "cell_type": "code",
   "execution_count": 25,
   "id": "80b356aa",
   "metadata": {},
   "outputs": [
    {
     "name": "stdout",
     "output_type": "stream",
     "text": [
      "[0, 0, 0, 0, 0, 0, 0, 0, 0, 0]\n",
      "[10, 20, 30, 40]\n",
      "[10, 20, 30, 999, 40]\n",
      "[10, 20, 30, 999, 40, 567]\n"
     ]
    }
   ],
   "source": [
    "l=[]\n",
    "for i in range(10):\n",
    "    l.append(0)  \n",
    "    \n",
    "print(l)    \n",
    "\n",
    "#insert() -add element at specific position\n",
    "n=[10,20,30,40]\n",
    "print(n)\n",
    "n.insert(3,999)\n",
    "print(n)\n",
    "n.insert(22,567)\n",
    "print(n)"
   ]
  },
  {
   "cell_type": "code",
   "execution_count": 38,
   "id": "8e7e8774",
   "metadata": {},
   "outputs": [
    {
     "name": "stdout",
     "output_type": "stream",
     "text": [
      "[11, 22, 33, 44, 55, 11, 22, 444]\n",
      "2\n",
      "2\n",
      "1\n",
      "1\n",
      "7\n",
      "None\n",
      "[22, 33, 44, 55, 11, 22, 444]\n",
      "[22, 33, 44, 55, 11, 22]\n",
      "[22, 33, 44, 55, 11]\n"
     ]
    }
   ],
   "source": [
    "#count()  the no of element present \n",
    "a=[11,22,33,44,55,11,22,444]\n",
    "print(a)\n",
    "print(a.count(11))\n",
    "print(a.count(22))\n",
    "print(a.count(33))\n",
    "\n",
    "#index() give the index number\n",
    "print(a.index(22))\n",
    "print(a.index(444))\n",
    "\n",
    "#remove() remove specific value\n",
    "print(a.remove(11))\n",
    "print(a)\n",
    "\n",
    "#pop() pop the last value,if index given the pop that value\n",
    "a.pop()\n",
    "print(a)\n",
    "a.pop(5)\n",
    "print(a)"
   ]
  },
  {
   "cell_type": "code",
   "execution_count": 43,
   "id": "1e27fa6a",
   "metadata": {},
   "outputs": [
    {
     "name": "stdout",
     "output_type": "stream",
     "text": [
      "[10, 20, 30, 34, 46, 56]\n",
      "[30, 20, 10]\n",
      "[1, 3, 4, 5, 6, 8, 29]\n",
      "[29, 8, 6, 5, 4, 3, 1]\n",
      "[]\n"
     ]
    }
   ],
   "source": [
    "#extend() adding all the ele of a list to another list\n",
    "s=[10,20,30]\n",
    "p=[34,46,56]\n",
    "s.extend(p)\n",
    "print(s)\n",
    "\n",
    "#reverse() reverse the list\n",
    "a=[10,20,30]\n",
    "a.reverse()\n",
    "print(a)\n",
    "\n",
    "#sort() -arrenge in ascending or decending order\n",
    "a=[1,5,6,3,4,29,8]\n",
    "a.sort()\n",
    "print(a)\n",
    "a.sort(reverse=True)\n",
    "print(a)\n",
    "\n",
    "#clear() clear means not delete just empty the list\n",
    "a.clear()\n",
    "print(a)"
   ]
  },
  {
   "cell_type": "code",
   "execution_count": 52,
   "id": "b49f2986",
   "metadata": {},
   "outputs": [
    {
     "name": "stdout",
     "output_type": "stream",
     "text": [
      "[10, 20, 30, 40, 50]\n",
      "[10, 20, 30, 40, 50]\n",
      "2108280485376\n",
      "2108309390784\n",
      "[10, 20, 30, 40, 50]\n",
      "[10, 20, 345, 40, 50]\n",
      "[10, 20, 30, 40, 50]\n",
      "[10, 20, 30, 40, 50]\n",
      "[10, 100, 30, 40, 50]\n",
      "[10, 100, 30, 40, 50]\n"
     ]
    }
   ],
   "source": [
    "#copy() copy-differenrt assign=same copy()-shallow copy (any modift in original donit affect to copy list)\n",
    "b=[10,20,30,40,50] \n",
    "c=b.copy()\n",
    "print(b)\n",
    "print(c)\n",
    "\n",
    "print(id(b))\n",
    "print(id(c))\n",
    "\n",
    "c[2]=345\n",
    "print(b)\n",
    "print(c)\n",
    "\n",
    "c=b\n",
    "print(b)\n",
    "print(c)\n",
    "b[1]=100\n",
    "print(b)\n",
    "print(c)"
   ]
  },
  {
   "cell_type": "markdown",
   "id": "ce0268ee",
   "metadata": {},
   "source": [
    "# Tuple"
   ]
  },
  {
   "cell_type": "code",
   "execution_count": 62,
   "id": "5c5c89d9",
   "metadata": {},
   "outputs": [
    {
     "name": "stdout",
     "output_type": "stream",
     "text": [
      "()\n",
      "<class 'tuple'>\n",
      "(10, 20, 300, 'laxmi', 356.987)\n",
      "<class 'tuple'>\n",
      "(10, 20, 'laxmi')\n",
      "<class 'tuple'>\n",
      "(10, 20, 30, 40)\n",
      "10\n",
      "40\n",
      "(10, 20, 30, 40)\n",
      "(10, 30)\n",
      "(10, 20)\n"
     ]
    },
    {
     "ename": "TypeError",
     "evalue": "'tuple' object does not support item assignment",
     "output_type": "error",
     "traceback": [
      "\u001b[1;31m---------------------------------------------------------------------------\u001b[0m",
      "\u001b[1;31mTypeError\u001b[0m                                 Traceback (most recent call last)",
      "Input \u001b[1;32mIn [62]\u001b[0m, in \u001b[0;36m<cell line: 21>\u001b[1;34m()\u001b[0m\n\u001b[0;32m     19\u001b[0m \u001b[38;5;28mprint\u001b[39m(t[::\u001b[38;5;241m2\u001b[39m])\n\u001b[0;32m     20\u001b[0m \u001b[38;5;28mprint\u001b[39m(t[:\u001b[38;5;241m2\u001b[39m])\n\u001b[1;32m---> 21\u001b[0m t[\u001b[38;5;241m2\u001b[39m]\u001b[38;5;241m=\u001b[39m\u001b[38;5;241m456\u001b[39m\n\u001b[0;32m     22\u001b[0m \u001b[38;5;28mprint\u001b[39m(t)\n",
      "\u001b[1;31mTypeError\u001b[0m: 'tuple' object does not support item assignment"
     ]
    }
   ],
   "source": [
    "t=()\n",
    "print(t)\n",
    "print(type(t))\n",
    "\n",
    "t=(10,20,300,'laxmi',356.987)\n",
    "print(t)\n",
    "print(type(t))\n",
    "\n",
    "t=10,20,'laxmi'\n",
    "print(t)\n",
    "print(type(t))\n",
    "\n",
    "l=[10,20,30,40]\n",
    "t=tuple(l)\n",
    "print(t)\n",
    "print(t[0])\n",
    "print(t[3])\n",
    "print(t[::])\n",
    "print(t[::2])\n",
    "print(t[:2])\n",
    "t[2]=456\n",
    "print(t)"
   ]
  },
  {
   "cell_type": "code",
   "execution_count": 3,
   "id": "9d7c8800",
   "metadata": {},
   "outputs": [
    {
     "name": "stdout",
     "output_type": "stream",
     "text": [
      "(10, 2, 30, 40, 11, 22, 33)\n",
      "(10, 2, 30, 40, 11, 22, 33, 10, 2, 30, 40, 11, 22, 33)\n",
      "11\n",
      "22\n",
      "33\n",
      "44\n",
      "55\n",
      "11\n",
      "22\n",
      "33\n",
      "44\n",
      "55\n"
     ]
    }
   ],
   "source": [
    "#concatenation()\n",
    "a=(10,2,30,40)\n",
    "b=(11,22,33)\n",
    "s=a+b\n",
    "print(s)\n",
    "\n",
    "#repetition()\n",
    "k=s*2\n",
    "print(k)\n",
    "\n",
    "\n",
    "#traversing()  using for loop()\n",
    "l=(11,22,33,44,55)\n",
    "for i in l:\n",
    "    print(i)\n",
    "    \n",
    "#using while loop()\n",
    "i=0\n",
    "while i<len(l):\n",
    "    print(l[i])\n",
    "    \n",
    "    i=i+1"
   ]
  },
  {
   "cell_type": "code",
   "execution_count": 10,
   "id": "0c432256",
   "metadata": {},
   "outputs": [
    {
     "name": "stdout",
     "output_type": "stream",
     "text": [
      "1\n",
      "2\n",
      "6\n",
      "10\n",
      "40\n",
      "[1, 2, 3, 5, 7]\n",
      "[7, 5, 3, 2, 1]\n"
     ]
    }
   ],
   "source": [
    "#index()\n",
    "t=(10,20,30,40,10,20)\n",
    "print(t.index(20))\n",
    "\n",
    "#count()\n",
    "print(t.count(20))\n",
    "\n",
    "#len()\n",
    "print(len(t))\n",
    "\n",
    "#min() and max()\n",
    "print(min(t))\n",
    "print(max(t))\n",
    "\n",
    "#sorted()\n",
    "a=(1,5,7,2,3)\n",
    "b=sorted(a)\n",
    "print(b)\n",
    "b=sorted(a,reverse=True)\n",
    "print(b)"
   ]
  },
  {
   "cell_type": "code",
   "execution_count": 13,
   "id": "b25122dd",
   "metadata": {},
   "outputs": [
    {
     "name": "stdout",
     "output_type": "stream",
     "text": [
      "(10, 20, 30)\n",
      "999 888 77\n"
     ]
    }
   ],
   "source": [
    "#packing and unpacking()\n",
    "a=10\n",
    "b=20\n",
    "c=30\n",
    "t=a,b,c\n",
    "print(t)\n",
    "\n",
    "k=(999,888,77)\n",
    "a,b,c=k\n",
    "print(a,b,c)"
   ]
  },
  {
   "cell_type": "code",
   "execution_count": 1,
   "id": "b6da9cdd",
   "metadata": {},
   "outputs": [
    {
     "name": "stdout",
     "output_type": "stream",
     "text": [
      "(10, 40, 50)\n",
      "<class 'tuple'>\n"
     ]
    }
   ],
   "source": [
    "def fun():\n",
    "    l=[10,20,30,40,50,60]\n",
    "    return(l[0],l[3],l[4])\n",
    "t=fun()\n",
    "print(t)\n",
    "print(type(t))"
   ]
  },
  {
   "cell_type": "code",
   "execution_count": 5,
   "id": "a02d74dc",
   "metadata": {},
   "outputs": [
    {
     "name": "stdout",
     "output_type": "stream",
     "text": [
      "10\n",
      "('laxmi', 'harsh')\n",
      "('mama', 'rashi')\n",
      "harsh\n"
     ]
    }
   ],
   "source": [
    "t=(10,20,30,('laxmi','harsh'),40,('mama','rashi'),50,56.98)\n",
    "print(t[0])\n",
    "print(t[3])\n",
    "print(t[5])\n",
    "print(t[3][1])"
   ]
  },
  {
   "cell_type": "code",
   "execution_count": 6,
   "id": "a81a4243",
   "metadata": {},
   "outputs": [
    {
     "name": "stdout",
     "output_type": "stream",
     "text": [
      "<generator object <genexpr> at 0x000001E45A1980B0>\n"
     ]
    }
   ],
   "source": [
    "t=(x for x in range(10))\n",
    "print(t)"
   ]
  },
  {
   "cell_type": "code",
   "execution_count": 7,
   "id": "3a63cc7c",
   "metadata": {},
   "outputs": [
    {
     "name": "stdout",
     "output_type": "stream",
     "text": [
      "(0, 1, 2, 3, 4, 5, 6, 7, 8, 9)\n"
     ]
    }
   ],
   "source": [
    "t=tuple(x for x in range(10))\n",
    "print(t)"
   ]
  },
  {
   "cell_type": "markdown",
   "id": "847cdd7d",
   "metadata": {},
   "source": [
    "# set"
   ]
  },
  {
   "cell_type": "code",
   "execution_count": 11,
   "id": "5b030afb",
   "metadata": {},
   "outputs": [
    {
     "name": "stdout",
     "output_type": "stream",
     "text": [
      "set()\n",
      "<class 'set'>\n",
      "{1, 2, 3, 4}\n",
      "<class 'set'>\n",
      "{33, 11, 44, 22}\n",
      "<class 'set'>\n",
      "{0, 1, 2, 3, 4, 5, 6, 7, 8, 9}\n",
      "<class 'set'>\n",
      "{'p', 'a', 'm', 'L', 'x', 'r', 'y', 'i'}\n",
      "<class 'set'>\n",
      "{'swain', 'Laxmi', 'priya'}\n",
      "<class 'set'>\n"
     ]
    },
    {
     "ename": "TypeError",
     "evalue": "'set' object is not subscriptable",
     "output_type": "error",
     "traceback": [
      "\u001b[1;31m---------------------------------------------------------------------------\u001b[0m",
      "\u001b[1;31mTypeError\u001b[0m                                 Traceback (most recent call last)",
      "Input \u001b[1;32mIn [11]\u001b[0m, in \u001b[0;36m<cell line: 34>\u001b[1;34m()\u001b[0m\n\u001b[0;32m     31\u001b[0m \u001b[38;5;28mprint\u001b[39m(\u001b[38;5;28mtype\u001b[39m(s))\n\u001b[0;32m     33\u001b[0m s\u001b[38;5;241m=\u001b[39m{\u001b[38;5;241m10\u001b[39m,\u001b[38;5;241m20\u001b[39m,\u001b[38;5;241m30\u001b[39m,\u001b[38;5;241m40\u001b[39m}\n\u001b[1;32m---> 34\u001b[0m \u001b[38;5;28mprint\u001b[39m(\u001b[43ms\u001b[49m\u001b[43m[\u001b[49m\u001b[38;5;241;43m2\u001b[39;49m\u001b[43m]\u001b[49m)\n",
      "\u001b[1;31mTypeError\u001b[0m: 'set' object is not subscriptable"
     ]
    }
   ],
   "source": [
    "#Creation of set\n",
    "s=set()\n",
    "print(s)\n",
    "print(type(s))\n",
    "\n",
    "#creation of sets with multiple elements\n",
    "s={1,2,3,4}\n",
    "print(s)\n",
    "print(type(s))\n",
    "\n",
    "#creation of set from tuple\n",
    "t=(11,22,33,44)\n",
    "s=set(t)\n",
    "print(s)\n",
    "print(type(s))\n",
    "\n",
    "#creation of set from range()\n",
    "s=set(range(10))\n",
    "print(s)\n",
    "print(type(s))\n",
    "\n",
    "#creation of set from string\n",
    "s=set('Laxmipriya')\n",
    "print(s)\n",
    "print(type(s))\n",
    "\n",
    "#creation of set from string using split()\n",
    "name='Laxmi priya swain'\n",
    "s=set(name.split())\n",
    "print(s)\n",
    "print(type(s))\n",
    "\n",
    "s={10,20,30,40}\n",
    "print(s[2])"
   ]
  },
  {
   "cell_type": "code",
   "execution_count": 15,
   "id": "56586c34",
   "metadata": {},
   "outputs": [
    {
     "name": "stdout",
     "output_type": "stream",
     "text": [
      "True\n",
      "False\n",
      "False\n",
      "True\n"
     ]
    }
   ],
   "source": [
    "#applying membership operatorsin sets(in,not in)\n",
    "s={10,20,30,40,50}\n",
    "print(30 in s)\n",
    "print(70 in s)\n",
    "print(30 not in s)\n",
    "print(40 in s)"
   ]
  },
  {
   "cell_type": "markdown",
   "id": "37fd2784",
   "metadata": {},
   "source": [
    "## set methods"
   ]
  },
  {
   "cell_type": "code",
   "execution_count": 24,
   "id": "5a5ae9b2",
   "metadata": {},
   "outputs": [
    {
     "name": "stdout",
     "output_type": "stream",
     "text": [
      "{50, 20, 999, 40, 10, 60, 30}\n",
      "{50, 20, 999, 40, 10, 60, 30, 111}\n",
      "{10, 20, 222, 30, 999, 40, 111, 50, 60}\n",
      "{10, 20, 222, 30, 999, 40, 111, 50, 60}\n",
      "{1, 2, 3, 4, 5, 6, 7, 8, 9, 10, 11, 12, 13, 14, 15, 16, 17, 18, 19}\n",
      "{'Priya', 'Riya', 777, 9, 555, 10, 333, 11, 111, 12, 13, 'Laxmi', 14, 888, 666, 444, 222}\n",
      "{53, 23, 43, 13}\n"
     ]
    },
    {
     "ename": "KeyError",
     "evalue": "10",
     "output_type": "error",
     "traceback": [
      "\u001b[1;31m---------------------------------------------------------------------------\u001b[0m",
      "\u001b[1;31mKeyError\u001b[0m                                  Traceback (most recent call last)",
      "Input \u001b[1;32mIn [24]\u001b[0m, in \u001b[0;36m<cell line: 29>\u001b[1;34m()\u001b[0m\n\u001b[0;32m     27\u001b[0m s\u001b[38;5;241m.\u001b[39mremove(\u001b[38;5;241m33\u001b[39m)\n\u001b[0;32m     28\u001b[0m \u001b[38;5;28mprint\u001b[39m(s)\n\u001b[1;32m---> 29\u001b[0m \u001b[43ms\u001b[49m\u001b[38;5;241;43m.\u001b[39;49m\u001b[43mremove\u001b[49m\u001b[43m(\u001b[49m\u001b[38;5;241;43m10\u001b[39;49m\u001b[43m)\u001b[49m\n\u001b[0;32m     30\u001b[0m \u001b[38;5;28mprint\u001b[39m(s)\n",
      "\u001b[1;31mKeyError\u001b[0m: 10"
     ]
    }
   ],
   "source": [
    "#add()\n",
    "s={10,20,30,40,50,60}\n",
    "s.add(999)\n",
    "print(s)\n",
    "s.add(111)\n",
    "print(s)\n",
    "s.add(222)\n",
    "print(s)\n",
    "s.add(10)\n",
    "print(s)\n",
    "\n",
    "#update()\n",
    "s={1,2,3,4}\n",
    "l=[5,6,7]\n",
    "t=(8,9,10)\n",
    "s.update(l,t,range(10,20))\n",
    "print(s)\n",
    "\n",
    "s1={111,222,333,444}\n",
    "l1=[555,666,777,'Laxmi']\n",
    "t1=('Riya','Priya',888)\n",
    "s1.update(l1,t1,range(9,15))\n",
    "print(s1)\n",
    "\n",
    "#Remove() - if specific element is not present ,raise a key error\n",
    "s={13,23,33,43,53}\n",
    "s.remove(33)\n",
    "print(s)\n",
    "s.remove(10)\n",
    "print(s)"
   ]
  },
  {
   "cell_type": "code",
   "execution_count": 32,
   "id": "2f2e6a59",
   "metadata": {},
   "outputs": [
    {
     "name": "stdout",
     "output_type": "stream",
     "text": [
      "{40, 10, 20}\n",
      "{40, 10, 20}\n",
      "{4, 22, 55, 11}\n",
      "{22, 55, 11}\n",
      "{55, 11}\n",
      "{11}\n",
      "set()\n"
     ]
    },
    {
     "ename": "KeyError",
     "evalue": "'pop from an empty set'",
     "output_type": "error",
     "traceback": [
      "\u001b[1;31m---------------------------------------------------------------------------\u001b[0m",
      "\u001b[1;31mKeyError\u001b[0m                                  Traceback (most recent call last)",
      "Input \u001b[1;32mIn [32]\u001b[0m, in \u001b[0;36m<cell line: 20>\u001b[1;34m()\u001b[0m\n\u001b[0;32m     18\u001b[0m k\u001b[38;5;241m.\u001b[39mpop()\n\u001b[0;32m     19\u001b[0m \u001b[38;5;28mprint\u001b[39m(k)\n\u001b[1;32m---> 20\u001b[0m \u001b[43mk\u001b[49m\u001b[38;5;241;43m.\u001b[39;49m\u001b[43mpop\u001b[49m\u001b[43m(\u001b[49m\u001b[43m)\u001b[49m\n\u001b[0;32m     21\u001b[0m \u001b[38;5;28mprint\u001b[39m(k)\n",
      "\u001b[1;31mKeyError\u001b[0m: 'pop from an empty set'"
     ]
    }
   ],
   "source": [
    "#discard() -if specific element is not present then it will not raise any key error\n",
    "s={10,20,30,40}\n",
    "s.discard(30)\n",
    "print(s)\n",
    "s.discard(50)\n",
    "print(s)\n",
    "\n",
    "#pop() - remove any random element from set,if set empty then raise a key error\n",
    "k={11,22,33,4,55}\n",
    "k.pop()\n",
    "print(k)\n",
    "k.pop()\n",
    "print(k)\n",
    "k.pop()\n",
    "print(k)\n",
    "k.pop()\n",
    "print(k)\n",
    "k.pop()\n",
    "print(k)\n",
    "k.pop()\n",
    "print(k)"
   ]
  },
  {
   "cell_type": "code",
   "execution_count": 43,
   "id": "b735a19a",
   "metadata": {},
   "outputs": [
    {
     "name": "stdout",
     "output_type": "stream",
     "text": [
      "{50, 20, 40, 10, 30}\n",
      "{50, 20, 40, 10, 30}\n",
      "1564681728736\n",
      "1564680363584\n",
      "{50, 20, 1111, 40, 10, 30} {50, 20, 40, 10, 30}\n",
      "{40, 10, 20, 30}\n",
      "set()\n",
      "(0, 33)\n",
      "(1, 22)\n",
      "(2, 55)\n",
      "(3, 11)\n",
      "(4, 44)\n",
      "10\n",
      "60\n",
      "110\n",
      "[1, 2, 3, 4, 5, 6, 10]\n",
      "[10, 6, 5, 4, 3, 2, 1]\n"
     ]
    }
   ],
   "source": [
    "#copy() -shallow copy\n",
    "s1={10,20,30,40,50}\n",
    "s2=s1.copy()\n",
    "print(s1)\n",
    "print(s2)\n",
    "print(id(s1))\n",
    "print(id(s2))\n",
    "s1.add(1111)\n",
    "print(s1,s2)\n",
    "\n",
    "#clear()\n",
    "#-remove all the elements of the set\n",
    "#-set not deleted,only elements get deleted\n",
    "s={10,20,30,40}\n",
    "print(s)\n",
    "s.clear()\n",
    "print(s)\n",
    "\n",
    "#enumerate()\n",
    "S={11,22,33,44,55}\n",
    "for i in enumerate(S):\n",
    "    print(i)\n",
    "    \n",
    "#max() and min()\n",
    "s={10,20,30,40,50,60}\n",
    "print(min(s))\n",
    "print(max(s))\n",
    "\n",
    "#sum()\n",
    "s={11,22,33,44}\n",
    "print(sum(s))\n",
    "\n",
    "#sorted()\n",
    "s={10,4,6,3,2,5,1}\n",
    "print(sorted(s))\n",
    "print(sorted(s,reverse=True))"
   ]
  },
  {
   "cell_type": "code",
   "execution_count": 59,
   "id": "34c23638",
   "metadata": {},
   "outputs": [
    {
     "name": "stdout",
     "output_type": "stream",
     "text": [
      "{50, 20, 40, 10, 60, 30}\n",
      "{50, 20, 40, 10, 60, 30}\n",
      "{30}\n",
      "{30}\n",
      "{555, 333, 111, 444, 222}\n",
      "{555, 333, 111, 444, 222}\n",
      "{888, 777, 666}\n",
      "{888, 777, 666}\n",
      "{40, 50, 60, 30}\n",
      "{40, 50, 60, 30}\n",
      "True\n",
      "False\n",
      "True\n",
      "False\n",
      "True\n",
      "False\n"
     ]
    }
   ],
   "source": [
    "#union() -a|b -all values of both set\n",
    "a={10,20,30}\n",
    "b={40,50,60}\n",
    "print(a.union(b))\n",
    "print(a|b)\n",
    "\n",
    "#intersection -common element in both sets\n",
    "a={10,20,30}\n",
    "b={30,40,50}\n",
    "print(a.intersection(b))\n",
    "print(a&b)\n",
    "\n",
    "#Difference -return all the element present in A ,not in B\n",
    "a={111,222,333,444,555}\n",
    "b={666,777,888}\n",
    "print(a.difference(b))\n",
    "print(a-b)\n",
    "print(b.difference(a))\n",
    "print(b-a)\n",
    "\n",
    "#symmetric difference\n",
    "#return all the element except the common element\n",
    "a={10,20,30,40}\n",
    "b={10,20,50,60}\n",
    "print(a.symmetric_difference(b))\n",
    "print(a^b)\n",
    "\n",
    "#issubset() ,issuperset()\n",
    "a={10,20,30,40}\n",
    "b={10,20}\n",
    "c={50,60}\n",
    "print(b.issubset(a))\n",
    "print(c.issubset(a))\n",
    "print(a.issuperset(b))\n",
    "print(c.issuperset(b))\n",
    "\n",
    "#isdisjoint()\n",
    "a={10,20,30}\n",
    "b={40,50,60}\n",
    "c={10,20}\n",
    "print(a.isdisjoint(b))\n",
    "print(a.isdisjoint(c))"
   ]
  },
  {
   "cell_type": "markdown",
   "id": "be0b0a1e",
   "metadata": {},
   "source": [
    "## set comprehension"
   ]
  },
  {
   "cell_type": "code",
   "execution_count": 7,
   "id": "4446609c",
   "metadata": {},
   "outputs": [
    {
     "name": "stdout",
     "output_type": "stream",
     "text": [
      "{40, 10, 50, 20, 30}\n",
      "{40, 10, 50, 20, 30}\n",
      "{1089, 121, 484, 1936}\n",
      "{88, 66, 44, 22}\n",
      "{32, 43, 21, 54}\n",
      "{100, 101, 102, 103, 104, 105, 106, 107, 108, 109, 110}\n"
     ]
    }
   ],
   "source": [
    "#creation of set from list\n",
    "l=[10,20,30,40,50]\n",
    "s=set()\n",
    "for i in l:\n",
    "    s.add(i)\n",
    "print(s)\n",
    "\n",
    "#using set comprehension\n",
    "s={i for i in l}\n",
    "print(s)\n",
    "\n",
    "#mul of the elements\n",
    "l=[11,22,33,44]\n",
    "s={i*i for i in l}\n",
    "print(s)\n",
    "s={i*2 for i in l}\n",
    "print(s)\n",
    "#add\n",
    "s={i+10 for i in l}\n",
    "print(s)\n",
    "\n",
    "#with range\n",
    "s={i for i in range(100,111)}\n",
    "print(s)"
   ]
  },
  {
   "cell_type": "code",
   "execution_count": 15,
   "id": "46d4a084",
   "metadata": {},
   "outputs": [
    {
     "name": "stdout",
     "output_type": "stream",
     "text": [
      "{32, 36, 40, 20, 24, 28}\n",
      "{'a', 's', 't', 'l', 'b'}\n",
      "{'aksh', 'sony', 'tina', 'bind', 'laxm'}\n",
      "{'bindu', 'sony', 'tina', 'laxmipriya', 'akshu'}\n"
     ]
    }
   ],
   "source": [
    "#create a set by adding all the element from 20 to 40 which are divisible by 4\n",
    "s={i for i in range(20,41) if i%4==0}\n",
    "print(s)\n",
    "\n",
    "#create a set from the list names as\"names\"and also print the first letters from each element\n",
    "names=['laxmi','sony','tina','bindu','akshu']\n",
    "s={(i[0])for i in names}\n",
    "print(s)\n",
    "s={(i[0:4])for i in names}\n",
    "print(s)\n",
    "\n",
    "#create a set from a list ,add all element except 'laxmi' to be added as 'laxmipriya'\n",
    "s={i if i!='laxmi' else 'laxmipriya' for i in names}\n",
    "print(s)"
   ]
  }
 ],
 "metadata": {
  "kernelspec": {
   "display_name": "Python 3 (ipykernel)",
   "language": "python",
   "name": "python3"
  },
  "language_info": {
   "codemirror_mode": {
    "name": "ipython",
    "version": 3
   },
   "file_extension": ".py",
   "mimetype": "text/x-python",
   "name": "python",
   "nbconvert_exporter": "python",
   "pygments_lexer": "ipython3",
   "version": "3.9.12"
  }
 },
 "nbformat": 4,
 "nbformat_minor": 5
}
